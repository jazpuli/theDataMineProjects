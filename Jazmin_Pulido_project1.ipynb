{
 "cells": [
  {
   "cell_type": "markdown",
   "id": "be02a957-7133-4d02-818e-fedeb3cecb05",
   "metadata": {},
   "source": [
    "# Project 1 -- Jazmin Pulido"
   ]
  },
  {
   "cell_type": "markdown",
   "id": "a1228853-dd19-4ab2-89e0-0394d7d72de3",
   "metadata": {},
   "source": [
    "**TA Help:** N/A, just the videos on the example book\n",
    "\n",
    "- Help with figuring out how to write functions.\n",
    "    \n",
    "**Collaboration:** N/A\n",
    "    \n"
   ]
  },
  {
   "cell_type": "markdown",
   "id": "6180e742-8e39-4698-98ff-5b00c8cf8ea0",
   "metadata": {},
   "source": [
    "## Question 1"
   ]
  },
  {
   "cell_type": "code",
   "execution_count": 2,
   "id": "49445606-d363-41b4-b479-e319a9a84c01",
   "metadata": {},
   "outputs": [
    {
     "data": {
      "text/html": [
       "<div>\n",
       "<style scoped>\n",
       "    .dataframe tbody tr th:only-of-type {\n",
       "        vertical-align: middle;\n",
       "    }\n",
       "\n",
       "    .dataframe tbody tr th {\n",
       "        vertical-align: top;\n",
       "    }\n",
       "\n",
       "    .dataframe thead th {\n",
       "        text-align: right;\n",
       "    }\n",
       "</style>\n",
       "<table border=\"1\" class=\"dataframe\">\n",
       "  <thead>\n",
       "    <tr style=\"text-align: right;\">\n",
       "      <th></th>\n",
       "      <th>iata</th>\n",
       "      <th>airport</th>\n",
       "      <th>city</th>\n",
       "      <th>state</th>\n",
       "      <th>country</th>\n",
       "      <th>lat</th>\n",
       "      <th>long</th>\n",
       "    </tr>\n",
       "  </thead>\n",
       "  <tbody>\n",
       "    <tr>\n",
       "      <th>0</th>\n",
       "      <td>00M</td>\n",
       "      <td>Thigpen</td>\n",
       "      <td>Bay Springs</td>\n",
       "      <td>MS</td>\n",
       "      <td>USA</td>\n",
       "      <td>31.953765</td>\n",
       "      <td>-89.234505</td>\n",
       "    </tr>\n",
       "    <tr>\n",
       "      <th>1</th>\n",
       "      <td>00R</td>\n",
       "      <td>Livingston Municipal</td>\n",
       "      <td>Livingston</td>\n",
       "      <td>TX</td>\n",
       "      <td>USA</td>\n",
       "      <td>30.685861</td>\n",
       "      <td>-95.017928</td>\n",
       "    </tr>\n",
       "    <tr>\n",
       "      <th>2</th>\n",
       "      <td>00V</td>\n",
       "      <td>Meadow Lake</td>\n",
       "      <td>Colorado Springs</td>\n",
       "      <td>CO</td>\n",
       "      <td>USA</td>\n",
       "      <td>38.945749</td>\n",
       "      <td>-104.569893</td>\n",
       "    </tr>\n",
       "    <tr>\n",
       "      <th>3</th>\n",
       "      <td>01G</td>\n",
       "      <td>Perry-Warsaw</td>\n",
       "      <td>Perry</td>\n",
       "      <td>NY</td>\n",
       "      <td>USA</td>\n",
       "      <td>42.741347</td>\n",
       "      <td>-78.052081</td>\n",
       "    </tr>\n",
       "    <tr>\n",
       "      <th>4</th>\n",
       "      <td>01J</td>\n",
       "      <td>Hilliard Airpark</td>\n",
       "      <td>Hilliard</td>\n",
       "      <td>FL</td>\n",
       "      <td>USA</td>\n",
       "      <td>30.688012</td>\n",
       "      <td>-81.905944</td>\n",
       "    </tr>\n",
       "  </tbody>\n",
       "</table>\n",
       "</div>"
      ],
      "text/plain": [
       "  iata               airport              city state country        lat  \\\n",
       "0  00M              Thigpen        Bay Springs    MS     USA  31.953765   \n",
       "1  00R  Livingston Municipal        Livingston    TX     USA  30.685861   \n",
       "2  00V           Meadow Lake  Colorado Springs    CO     USA  38.945749   \n",
       "3  01G          Perry-Warsaw             Perry    NY     USA  42.741347   \n",
       "4  01J      Hilliard Airpark          Hilliard    FL     USA  30.688012   \n",
       "\n",
       "         long  \n",
       "0  -89.234505  \n",
       "1  -95.017928  \n",
       "2 -104.569893  \n",
       "3  -78.052081  \n",
       "4  -81.905944  "
      ]
     },
     "execution_count": 2,
     "metadata": {},
     "output_type": "execute_result"
    }
   ],
   "source": [
    "#Use Python to show the output with the first five rows of the airports data frame\n",
    "import pandas as pd\n",
    "myDF = pd.read_csv(\"/anvil/projects/tdm/data/flights/subset/airports.csv\")\n",
    "myDF.head()"
   ]
  },
  {
   "cell_type": "markdown",
   "id": "b456e57c-4a12-464b-999a-ef2df5af80c1",
   "metadata": {},
   "source": [
    "**I used pandas to read airports.csv and to then view the first five rows of data.**"
   ]
  },
  {
   "cell_type": "markdown",
   "id": "fc601975-35ed-4680-a4e1-0273ee3cc047",
   "metadata": {},
   "source": [
    "## Question 2"
   ]
  },
  {
   "cell_type": "code",
   "execution_count": 3,
   "id": "a16336a1-1ef0-41e8-bc7c-49387db27497",
   "metadata": {},
   "outputs": [
    {
     "name": "stdout",
     "output_type": "stream",
     "text": [
      "  iata              airport             city state country      lat       long\n",
      "1  00M             Thigpen       Bay Springs    MS     USA 31.95376  -89.23450\n",
      "2  00R Livingston Municipal       Livingston    TX     USA 30.68586  -95.01793\n",
      "3  00V          Meadow Lake Colorado Springs    CO     USA 38.94575 -104.56989\n",
      "4  01G         Perry-Warsaw            Perry    NY     USA 42.74135  -78.05208\n",
      "5  01J     Hilliard Airpark         Hilliard    FL     USA 30.68801  -81.90594\n",
      "6  01M    Tishomingo County          Belmont    MS     USA 34.49167  -88.20111\n"
     ]
    }
   ],
   "source": [
    "#Use R to show the output with the first six rows of the airports data frame, \n",
    "#and do this two ways: once using R with the seminar kernel, and once using R with the seminar-r kernel.\n",
    "%%R\n",
    "myDF <- read.csv(\"/anvil/projects/tdm/data/flights/subset/airports.csv\")\n",
    "head(myDF)"
   ]
  },
  {
   "cell_type": "markdown",
   "id": "14dc22d4-ddc3-41cc-a91a-cb0025bc0c80",
   "metadata": {},
   "source": [
    "**Here I executed reading and showing some of the airports.csv file using the seminar kernel and cell magic to do so in R.**"
   ]
  },
  {
   "cell_type": "code",
   "execution_count": 1,
   "id": "3ca7af93-fa7c-4945-b2e1-6f6b0bd5d23b",
   "metadata": {},
   "outputs": [
    {
     "data": {
      "text/html": [
       "<table class=\"dataframe\">\n",
       "<caption>A data.frame: 6 x 7</caption>\n",
       "<thead>\n",
       "\t<tr><th></th><th scope=col>iata</th><th scope=col>airport</th><th scope=col>city</th><th scope=col>state</th><th scope=col>country</th><th scope=col>lat</th><th scope=col>long</th></tr>\n",
       "\t<tr><th></th><th scope=col>&lt;chr&gt;</th><th scope=col>&lt;chr&gt;</th><th scope=col>&lt;chr&gt;</th><th scope=col>&lt;chr&gt;</th><th scope=col>&lt;chr&gt;</th><th scope=col>&lt;dbl&gt;</th><th scope=col>&lt;dbl&gt;</th></tr>\n",
       "</thead>\n",
       "<tbody>\n",
       "\t<tr><th scope=row>1</th><td>00M</td><td>Thigpen             </td><td>Bay Springs     </td><td>MS</td><td>USA</td><td>31.95376</td><td> -89.23450</td></tr>\n",
       "\t<tr><th scope=row>2</th><td>00R</td><td>Livingston Municipal</td><td>Livingston      </td><td>TX</td><td>USA</td><td>30.68586</td><td> -95.01793</td></tr>\n",
       "\t<tr><th scope=row>3</th><td>00V</td><td>Meadow Lake         </td><td>Colorado Springs</td><td>CO</td><td>USA</td><td>38.94575</td><td>-104.56989</td></tr>\n",
       "\t<tr><th scope=row>4</th><td>01G</td><td>Perry-Warsaw        </td><td>Perry           </td><td>NY</td><td>USA</td><td>42.74135</td><td> -78.05208</td></tr>\n",
       "\t<tr><th scope=row>5</th><td>01J</td><td>Hilliard Airpark    </td><td>Hilliard        </td><td>FL</td><td>USA</td><td>30.68801</td><td> -81.90594</td></tr>\n",
       "\t<tr><th scope=row>6</th><td>01M</td><td>Tishomingo County   </td><td>Belmont         </td><td>MS</td><td>USA</td><td>34.49167</td><td> -88.20111</td></tr>\n",
       "</tbody>\n",
       "</table>\n"
      ],
      "text/latex": [
       "A data.frame: 6 x 7\n",
       "\\begin{tabular}{r|lllllll}\n",
       "  & iata & airport & city & state & country & lat & long\\\\\n",
       "  & <chr> & <chr> & <chr> & <chr> & <chr> & <dbl> & <dbl>\\\\\n",
       "\\hline\n",
       "\t1 & 00M & Thigpen              & Bay Springs      & MS & USA & 31.95376 &  -89.23450\\\\\n",
       "\t2 & 00R & Livingston Municipal & Livingston       & TX & USA & 30.68586 &  -95.01793\\\\\n",
       "\t3 & 00V & Meadow Lake          & Colorado Springs & CO & USA & 38.94575 & -104.56989\\\\\n",
       "\t4 & 01G & Perry-Warsaw         & Perry            & NY & USA & 42.74135 &  -78.05208\\\\\n",
       "\t5 & 01J & Hilliard Airpark     & Hilliard         & FL & USA & 30.68801 &  -81.90594\\\\\n",
       "\t6 & 01M & Tishomingo County    & Belmont          & MS & USA & 34.49167 &  -88.20111\\\\\n",
       "\\end{tabular}\n"
      ],
      "text/markdown": [
       "\n",
       "A data.frame: 6 x 7\n",
       "\n",
       "| <!--/--> | iata &lt;chr&gt; | airport &lt;chr&gt; | city &lt;chr&gt; | state &lt;chr&gt; | country &lt;chr&gt; | lat &lt;dbl&gt; | long &lt;dbl&gt; |\n",
       "|---|---|---|---|---|---|---|---|\n",
       "| 1 | 00M | Thigpen              | Bay Springs      | MS | USA | 31.95376 |  -89.23450 |\n",
       "| 2 | 00R | Livingston Municipal | Livingston       | TX | USA | 30.68586 |  -95.01793 |\n",
       "| 3 | 00V | Meadow Lake          | Colorado Springs | CO | USA | 38.94575 | -104.56989 |\n",
       "| 4 | 01G | Perry-Warsaw         | Perry            | NY | USA | 42.74135 |  -78.05208 |\n",
       "| 5 | 01J | Hilliard Airpark     | Hilliard         | FL | USA | 30.68801 |  -81.90594 |\n",
       "| 6 | 01M | Tishomingo County    | Belmont          | MS | USA | 34.49167 |  -88.20111 |\n",
       "\n"
      ],
      "text/plain": [
       "  iata airport              city             state country lat      long      \n",
       "1 00M  Thigpen              Bay Springs      MS    USA     31.95376  -89.23450\n",
       "2 00R  Livingston Municipal Livingston       TX    USA     30.68586  -95.01793\n",
       "3 00V  Meadow Lake          Colorado Springs CO    USA     38.94575 -104.56989\n",
       "4 01G  Perry-Warsaw         Perry            NY    USA     42.74135  -78.05208\n",
       "5 01J  Hilliard Airpark     Hilliard         FL    USA     30.68801  -81.90594\n",
       "6 01M  Tishomingo County    Belmont          MS    USA     34.49167  -88.20111"
      ]
     },
     "metadata": {},
     "output_type": "display_data"
    }
   ],
   "source": [
    "myDF <- read.csv(\"/anvil/projects/tdm/data/flights/subset/airports.csv\")\n",
    "head(myDF)"
   ]
  },
  {
   "cell_type": "markdown",
   "id": "664a4959-cc17-44da-b65b-ea573b415ceb",
   "metadata": {},
   "source": [
    "**Here I changed my kernel to seminar-r in order to execute the same code, but without cell magic.**"
   ]
  },
  {
   "cell_type": "markdown",
   "id": "8e586edd-ff26-4ce2-8f6b-2424b26f2929",
   "metadata": {},
   "source": [
    "## Question 3"
   ]
  },
  {
   "cell_type": "code",
   "execution_count": 2,
   "id": "bbe0f40d-9655-4653-9ca8-886bdb61cb91",
   "metadata": {},
   "outputs": [
    {
     "data": {
      "text/plain": [
       "\n",
       " AK  AL  AR  AS  AZ  CA  CO  CQ  CT  DC  DE  FL  GA  GU  HI  IA  ID  IL  IN  KS \n",
       "263  73  74   3  59 205  49   4  15   1   5 100  97   1  16  78  37  88  65  78 \n",
       " KY  LA  MA  MD  ME  MI  MN  MO  MS  MT  NC  ND  NE  NH  NJ  NM  NV  NY  OH  OK \n",
       " 50  55  30  18  34  94  89  74  72  71  72  52  73  14  35  51  32  97 100 102 \n",
       " OR  PA  PR  RI  SC  SD  TN  TX  UT  VA  VI  VT  WA  WI  WV  WY \n",
       " 57  71  11   6  52  57  70 209  35  47   5  13  65  84  24  32 "
      ]
     },
     "metadata": {},
     "output_type": "display_data"
    }
   ],
   "source": [
    "#Use R to show how many airports are found in each state, first in alphabetical order (which is the default),\n",
    "#and then in sorted order. You are welcome to work in R and use the seminar-r kernel.\n",
    "table(myDF$state)"
   ]
  },
  {
   "cell_type": "markdown",
   "id": "346b89e3-c681-4904-ad8a-9f5d9f358210",
   "metadata": {},
   "source": [
    "**In this table I executed r code showing the number of airports in each state sorted alphabetically**"
   ]
  },
  {
   "cell_type": "code",
   "execution_count": 4,
   "id": "bbd8e229-6645-4af7-832a-cec2ff2d6943",
   "metadata": {},
   "outputs": [
    {
     "data": {
      "text/plain": [
       "\n",
       " DC  GU  AS  CQ  DE  VI  RI  PR  VT  NH  CT  HI  MD  WV  MA  NV  WY  ME  NJ  UT \n",
       "  1   1   3   4   5   5   6  11  13  14  15  16  18  24  30  32  32  34  35  35 \n",
       " ID  VA  CO  KY  NM  ND  SC  LA  OR  SD  AZ  IN  WA  TN  MT  PA  MS  NC  AL  NE \n",
       " 37  47  49  50  51  52  52  55  57  57  59  65  65  70  71  71  72  72  73  73 \n",
       " AR  MO  IA  KS  WI  IL  MN  MI  GA  NY  FL  OH  OK  CA  TX  AK \n",
       " 74  74  78  78  84  88  89  94  97  97 100 100 102 205 209 263 "
      ]
     },
     "metadata": {},
     "output_type": "display_data"
    }
   ],
   "source": [
    "sort(table(myDF$state))"
   ]
  },
  {
   "cell_type": "markdown",
   "id": "985ca588-36ec-4f54-ba48-5932c7e01ddd",
   "metadata": {},
   "source": [
    "**In this table I executed r code showing the number of airports in each state sorted numerically**"
   ]
  },
  {
   "cell_type": "markdown",
   "id": "da22f29c-d245-4d2b-9fc1-ca14cb6087d9",
   "metadata": {},
   "source": [
    "## Question 4"
   ]
  },
  {
   "cell_type": "code",
   "execution_count": 5,
   "id": "8cffc767-d1c8-4d64-b7dc-f0d2ee8a80d1",
   "metadata": {},
   "outputs": [
    {
     "data": {
      "text/plain": [
       "\n",
       "     bj breyers      hd talenti \n",
       "     57      69      70      45 "
      ]
     },
     "metadata": {},
     "output_type": "display_data"
    }
   ],
   "source": [
    "#Use R to show how times each brand of ice cream appears, in each of the two files indicated above.\n",
    "myDF <- read.csv(\"/anvil/projects/tdm/data/icecream/combined/products.csv\")\n",
    "table(myDF$brand)"
   ]
  },
  {
   "cell_type": "markdown",
   "id": "0d552245-b4d6-474a-9cc9-fa7b8e674d55",
   "metadata": {},
   "source": [
    "**Here I read the products.csv file and presented the brands from the file in a table using r code with the seminar-r kernel**"
   ]
  },
  {
   "cell_type": "code",
   "execution_count": 6,
   "id": "8394764b-2b77-41bc-a60a-72e57ab25a77",
   "metadata": {},
   "outputs": [
    {
     "data": {
      "text/plain": [
       "\n",
       "     bj breyers      hd talenti \n",
       "   7943    5007    4655    4069 "
      ]
     },
     "metadata": {},
     "output_type": "display_data"
    }
   ],
   "source": [
    "myDF <- read.csv(\"/anvil/projects/tdm/data/icecream/combined/reviews.csv\")\n",
    "table(myDF$brand)"
   ]
  },
  {
   "cell_type": "markdown",
   "id": "d8d419ab-3e95-4e74-a0c6-27d635b77699",
   "metadata": {},
   "source": [
    "**Here I read the reviews.csv file and presented the brands from the file in a table using r code with the seminar-r kernel**"
   ]
  },
  {
   "cell_type": "markdown",
   "id": "88c9cdac-3e92-498f-83fa-e089bfc44ac8",
   "metadata": {},
   "source": [
    "## Question 5"
   ]
  },
  {
   "cell_type": "code",
   "execution_count": 8,
   "id": "d370d7c9-06db-42b9-b75f-240481a5c491",
   "metadata": {},
   "outputs": [
    {
     "data": {
      "image/png": "[encoded data removed]",
      "text/plain": [
       "plot without title"
      ]
     },
     "metadata": {
      "image/png": {
       "height": 420,
       "width": 420
      }
     },
     "output_type": "display_data"
    }
   ],
   "source": [
    "#Use R to make two plots, illustrating how many times that each brand of ice cream appears in the two (respective) data sets with ice cream data.\n",
    "myDF <- read.csv(\"/anvil/projects/tdm/data/icecream/combined/products.csv\")\n",
    "plot(table(myDF$brand))"
   ]
  },
  {
   "cell_type": "markdown",
   "id": "9fbf00fb-2418-460f-ae94-2a32b0c28952",
   "metadata": {},
   "source": [
    "**Here I read the products.csv file and presented the brands from the file in a graph using the plot command in conjucntion with the table command with r code in the seminar-r kernel**"
   ]
  },
  {
   "cell_type": "code",
   "execution_count": 9,
   "id": "cbd519a8-c13b-48bc-83a4-b46e35c0e972",
   "metadata": {},
   "outputs": [
    {
     "data": {
      "image/png": "[encoded data removed]",
      "text/plain": [
       "plot without title"
      ]
     },
     "metadata": {
      "image/png": {
       "height": 420,
       "width": 420
      }
     },
     "output_type": "display_data"
    }
   ],
   "source": [
    "myDF <- read.csv(\"/anvil/projects/tdm/data/icecream/combined/reviews.csv\")\n",
    "plot(table(myDF$brand))"
   ]
  },
  {
   "cell_type": "markdown",
   "id": "d1eff2e3-d991-42d9-b3ae-d012ed7f4dc0",
   "metadata": {},
   "source": [
    "**Here I read the reviews.csv file and presented the brands from the file in a graph using the plot command in conjucntion with the table command with r code in the seminar-r kernel**"
   ]
  },
  {
   "cell_type": "markdown",
   "id": "f76442d6-d02e-4f26-b9d6-c3183e1d6929",
   "metadata": {},
   "source": [
    "## Pledge\n",
    "\n",
    "By submitting this work I hereby pledge that this is my own, personal work. I've acknowledged in the designated place at the top of this file all sources that I used to complete said work, including but not limited to: online resources, books, and electronic communications. I've noted all collaboration with fellow students and/or TA's. I did not copy or plagiarize another's work.\n",
    "\n",
    "> As a Boilermaker pursuing academic excellence, I pledge to be honest and true in all that I do. Accountable together – We are Purdue."
   ]
  }
 ],
 "metadata": {
  "kernelspec": {
   "display_name": "seminar",
   "language": "python",
   "name": "python3"
  },
  "language_info": {
   "codemirror_mode": {
    "name": "ipython",
    "version": 3
   },
   "file_extension": ".py",
   "mimetype": "text/x-python",
   "name": "python",
   "nbconvert_exporter": "python",
   "pygments_lexer": "ipython3",
   "version": "3.11.5"
  }
 },
 "nbformat": 4,
 "nbformat_minor": 5
}
