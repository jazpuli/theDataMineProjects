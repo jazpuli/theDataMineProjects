{
 "cells": [
  {
   "cell_type": "markdown",
   "id": "be02a957-7133-4d02-818e-fedeb3cecb05",
   "metadata": {},
   "source": [
    "# Project 11 -- Jazmin Pulido"
   ]
  },
  {
   "cell_type": "markdown",
   "id": "a1228853-dd19-4ab2-89e0-0394d7d72de3",
   "metadata": {},
   "source": [
    "**TA Help:** N/A\n",
    "\n",
    "- Helped with...\n",
    "    \n",
    "**Collaboration:** N/A\n",
    "    \n",
    "- Helped with..."
   ]
  },
  {
   "cell_type": "markdown",
   "id": "6180e742-8e39-4698-98ff-5b00c8cf8ea0",
   "metadata": {},
   "source": [
    "## Question 1"
   ]
  },
  {
   "cell_type": "code",
   "execution_count": 5,
   "id": "49445606-d363-41b4-b479-e319a9a84c01",
   "metadata": {},
   "outputs": [
    {
     "data": {
      "text/html": [
       "<style>\n",
       ".dl-inline {width: auto; margin:0; padding: 0}\n",
       ".dl-inline>dt, .dl-inline>dd {float: none; width: auto; display: inline-block}\n",
       ".dl-inline>dt::after {content: \":\\0020\"; padding-right: .5ex}\n",
       ".dl-inline>dt:not(:first-of-type) {padding-left: .5ex}\n",
       "</style><dl class=dl-inline><dt>1</dt><dd>7.28277205677707</dd><dt>2</dt><dd>9.49702660406886</dd><dt>3</dt><dd>6.92484111633048</dd><dt>4</dt><dd>4.94985835694051</dd><dt>5</dt><dd>5.47148703956344</dd><dt>6</dt><dd>6.01083547191332</dd><dt>7</dt><dd>4.30737704918033</dd><dt>8</dt><dd>5.63978201634877</dd><dt>9</dt><dd>4.45558583106267</dd><dt>10</dt><dd>4.47372488408037</dd><dt>11</dt><dd>3.4083044982699</dd><dt>12</dt><dd>9.76410531972058</dd></dl>\n"
      ],
      "text/latex": [
       "\\begin{description*}\n",
       "\\item[1] 7.28277205677707\n",
       "\\item[2] 9.49702660406886\n",
       "\\item[3] 6.92484111633048\n",
       "\\item[4] 4.94985835694051\n",
       "\\item[5] 5.47148703956344\n",
       "\\item[6] 6.01083547191332\n",
       "\\item[7] 4.30737704918033\n",
       "\\item[8] 5.63978201634877\n",
       "\\item[9] 4.45558583106267\n",
       "\\item[10] 4.47372488408037\n",
       "\\item[11] 3.4083044982699\n",
       "\\item[12] 9.76410531972058\n",
       "\\end{description*}\n"
      ],
      "text/markdown": [
       "1\n",
       ":   7.282772056777072\n",
       ":   9.497026604068863\n",
       ":   6.924841116330484\n",
       ":   4.949858356940515\n",
       ":   5.471487039563446\n",
       ":   6.010835471913327\n",
       ":   4.307377049180338\n",
       ":   5.639782016348779\n",
       ":   4.4555858310626710\n",
       ":   4.4737248840803711\n",
       ":   3.408304498269912\n",
       ":   9.76410531972058\n",
       "\n"
      ],
      "text/plain": [
       "       1        2        3        4        5        6        7        8 \n",
       "7.282772 9.497027 6.924841 4.949858 5.471487 6.010835 4.307377 5.639782 \n",
       "       9       10       11       12 \n",
       "4.455586 4.473725 3.408304 9.764105 "
      ]
     },
     "metadata": {},
     "output_type": "display_data"
    },
    {
     "data": {
      "text/html": [
       "<style>\n",
       ".dl-inline {width: auto; margin:0; padding: 0}\n",
       ".dl-inline>dt, .dl-inline>dd {float: none; width: auto; display: inline-block}\n",
       ".dl-inline>dt::after {content: \":\\0020\"; padding-right: .5ex}\n",
       ".dl-inline>dt:not(:first-of-type) {padding-left: .5ex}\n",
       "</style><dl class=dl-inline><dt>1</dt><dd>6.3144385026738</dd><dt>2</dt><dd>5.86676994577847</dd><dt>3</dt><dd>9.89831697054698</dd><dt>4</dt><dd>7.76675210545588</dd><dt>5</dt><dd>8.9800924280128</dd><dt>6</dt><dd>15.86646884273</dd><dt>7</dt><dd>7.57960199004975</dd><dt>8</dt><dd>5.76538323137819</dd><dt>9</dt><dd>3.12249799839872</dd><dt>10</dt><dd>5.16964598668069</dd><dt>11</dt><dd>4.34653465346535</dd><dt>12</dt><dd>9.22851002865329</dd></dl>\n"
      ],
      "text/latex": [
       "\\begin{description*}\n",
       "\\item[1] 6.3144385026738\n",
       "\\item[2] 5.86676994577847\n",
       "\\item[3] 9.89831697054698\n",
       "\\item[4] 7.76675210545588\n",
       "\\item[5] 8.9800924280128\n",
       "\\item[6] 15.86646884273\n",
       "\\item[7] 7.57960199004975\n",
       "\\item[8] 5.76538323137819\n",
       "\\item[9] 3.12249799839872\n",
       "\\item[10] 5.16964598668069\n",
       "\\item[11] 4.34653465346535\n",
       "\\item[12] 9.22851002865329\n",
       "\\end{description*}\n"
      ],
      "text/markdown": [
       "1\n",
       ":   6.31443850267382\n",
       ":   5.866769945778473\n",
       ":   9.898316970546984\n",
       ":   7.766752105455885\n",
       ":   8.98009242801286\n",
       ":   15.866468842737\n",
       ":   7.579601990049758\n",
       ":   5.765383231378199\n",
       ":   3.1224979983987210\n",
       ":   5.1696459866806911\n",
       ":   4.3465346534653512\n",
       ":   9.22851002865329\n",
       "\n"
      ],
      "text/plain": [
       "        1         2         3         4         5         6         7         8 \n",
       " 6.314439  5.866770  9.898317  7.766752  8.980092 15.866469  7.579602  5.765383 \n",
       "        9        10        11        12 \n",
       " 3.122498  5.169646  4.346535  9.228510 "
      ]
     },
     "metadata": {},
     "output_type": "display_data"
    },
    {
     "data": {
      "text/html": [
       "<style>\n",
       ".dl-inline {width: auto; margin:0; padding: 0}\n",
       ".dl-inline>dt, .dl-inline>dd {float: none; width: auto; display: inline-block}\n",
       ".dl-inline>dt::after {content: \":\\0020\"; padding-right: .5ex}\n",
       ".dl-inline>dt:not(:first-of-type) {padding-left: .5ex}\n",
       "</style><dl class=dl-inline><dt>1</dt><dd>7.68924849149753</dd><dt>2</dt><dd>4.95619596541787</dd><dt>3</dt><dd>6.88182773109244</dd><dt>4</dt><dd>2.98890186915888</dd><dt>5</dt><dd>1.30244036194132</dd><dt>6</dt><dd>8.47259136212624</dd><dt>7</dt><dd>12.218633208756</dd><dt>8</dt><dd>6.81269841269841</dd><dt>9</dt><dd>2.79514591158625</dd><dt>10</dt><dd>4.85018408382894</dd><dt>11</dt><dd>4.89714461160577</dd><dt>12</dt><dd>11.5725502512563</dd></dl>\n"
      ],
      "text/latex": [
       "\\begin{description*}\n",
       "\\item[1] 7.68924849149753\n",
       "\\item[2] 4.95619596541787\n",
       "\\item[3] 6.88182773109244\n",
       "\\item[4] 2.98890186915888\n",
       "\\item[5] 1.30244036194132\n",
       "\\item[6] 8.47259136212624\n",
       "\\item[7] 12.218633208756\n",
       "\\item[8] 6.81269841269841\n",
       "\\item[9] 2.79514591158625\n",
       "\\item[10] 4.85018408382894\n",
       "\\item[11] 4.89714461160577\n",
       "\\item[12] 11.5725502512563\n",
       "\\end{description*}\n"
      ],
      "text/markdown": [
       "1\n",
       ":   7.689248491497532\n",
       ":   4.956195965417873\n",
       ":   6.881827731092444\n",
       ":   2.988901869158885\n",
       ":   1.302440361941326\n",
       ":   8.472591362126247\n",
       ":   12.2186332087568\n",
       ":   6.812698412698419\n",
       ":   2.7951459115862510\n",
       ":   4.8501840838289411\n",
       ":   4.8971446116057712\n",
       ":   11.5725502512563\n",
       "\n"
      ],
      "text/plain": [
       "        1         2         3         4         5         6         7         8 \n",
       " 7.689248  4.956196  6.881828  2.988902  1.302440  8.472591 12.218633  6.812698 \n",
       "        9        10        11        12 \n",
       " 2.795146  4.850184  4.897145 11.572550 "
      ]
     },
     "metadata": {},
     "output_type": "display_data"
    }
   ],
   "source": [
    "library(data.table)\n",
    "monthlydepdelays <- function(year) {\n",
    "    df <- fread(paste0(\"/anvil/projects/tdm/data/flights/subset/\",year,\".csv\"))\n",
    "    flights_ind <- subset(df, Year == year & Origin == \"IND\")\n",
    "    avg_delays <- tapply(flights_ind$DepDelay, flights_ind$Month, mean, na.rm = TRUE)\n",
    "    return(avg_delays)\n",
    "}\n",
    "\n",
    "monthlydepdelays(1990)\n",
    "monthlydepdelays(1998)\n",
    "monthlydepdelays(2005)\n"
   ]
  },
  {
   "cell_type": "markdown",
   "id": "b456e57c-4a12-464b-999a-ef2df5af80c1",
   "metadata": {},
   "source": [
    "I read the flight data for a specific year using fread and paste0. Then, I filtered the data to only include flights originating from Indianapolis (IND) for that year. I used the tapply function to calculate the average departure delay for each month, ensuring that any missing values (NA) were ignored with the na.rm = TRUE parameter. The resulting average delays for each month are returned as a table."
   ]
  },
  {
   "cell_type": "markdown",
   "id": "fc601975-35ed-4680-a4e1-0273ee3cc047",
   "metadata": {},
   "source": [
    "## Question 2"
   ]
  },
  {
   "cell_type": "code",
   "execution_count": 6,
   "id": "a16336a1-1ef0-41e8-bc7c-49387db27497",
   "metadata": {},
   "outputs": [
    {
     "data": {
      "image/png": "[encoded data removed]",
      "text/plain": [
       "plot without title"
      ]
     },
     "metadata": {
      "image/png": {
       "height": 420,
       "width": 420
      }
     },
     "output_type": "display_data"
    }
   ],
   "source": [
    "par(mfrow = c(3, 2))\n",
    "myresults <- sapply(1988:1993, function(x) plot(monthlydepdelays(x)))\n"
   ]
  },
  {
   "cell_type": "markdown",
   "id": "14dc22d4-ddc3-41cc-a91a-cb0025bc0c80",
   "metadata": {},
   "source": [
    "\n",
    "I used the par(mfrow = c(3, 2)) function to set up a 3x2 grid for the plots. Then, I applied the sapply function to generate plots for the average monthly departure delays for the years 1988 through 1993."
   ]
  },
  {
   "cell_type": "markdown",
   "id": "8e586edd-ff26-4ce2-8f6b-2424b26f2929",
   "metadata": {},
   "source": [
    "## Question 3"
   ]
  },
  {
   "cell_type": "code",
   "execution_count": 33,
   "id": "bbe0f40d-9655-4653-9ca8-886bdb61cb91",
   "metadata": {},
   "outputs": [
    {
     "data": {
      "text/html": [
       "<style>\n",
       ".dl-inline {width: auto; margin:0; padding: 0}\n",
       ".dl-inline>dt, .dl-inline>dd {float: none; width: auto; display: inline-block}\n",
       ".dl-inline>dt::after {content: \":\\0020\"; padding-right: .5ex}\n",
       ".dl-inline>dt:not(:first-of-type) {padding-left: .5ex}\n",
       "</style><dl class=dl-inline><dt>INDIANAPOLIS</dt><dd>753547</dd><dt>MUNCIE</dt><dd>159897</dd><dt>ELKHART</dt><dd>111385</dd><dt>EVANSVILLE</dt><dd>94605</dd><dt>FORT WAYNE</dt><dd>87115</dd><dt>CARMEL</dt><dd>85872</dd><dt>INDPLS</dt><dd>76396</dd><dt>FT WAYNE</dt><dd>70174</dd><dt>SOUTH BEND</dt><dd>68332</dd><dt>LAFAYETTE</dt><dd>49851</dd></dl>\n"
      ],
      "text/latex": [
       "\\begin{description*}\n",
       "\\item[INDIANAPOLIS] 753547\n",
       "\\item[MUNCIE] 159897\n",
       "\\item[ELKHART] 111385\n",
       "\\item[EVANSVILLE] 94605\n",
       "\\item[FORT WAYNE] 87115\n",
       "\\item[CARMEL] 85872\n",
       "\\item[INDPLS] 76396\n",
       "\\item[FT WAYNE] 70174\n",
       "\\item[SOUTH BEND] 68332\n",
       "\\item[LAFAYETTE] 49851\n",
       "\\end{description*}\n"
      ],
      "text/markdown": [
       "INDIANAPOLIS\n",
       ":   753547MUNCIE\n",
       ":   159897ELKHART\n",
       ":   111385EVANSVILLE\n",
       ":   94605FORT WAYNE\n",
       ":   87115CARMEL\n",
       ":   85872INDPLS\n",
       ":   76396FT WAYNE\n",
       ":   70174SOUTH BEND\n",
       ":   68332LAFAYETTE\n",
       ":   49851\n",
       "\n"
      ],
      "text/plain": [
       "INDIANAPOLIS       MUNCIE      ELKHART   EVANSVILLE   FORT WAYNE       CARMEL \n",
       "      753547       159897       111385        94605        87115        85872 \n",
       "      INDPLS     FT WAYNE   SOUTH BEND    LAFAYETTE \n",
       "       76396        70174        68332        49851 "
      ]
     },
     "metadata": {},
     "output_type": "display_data"
    },
    {
     "data": {
      "text/html": [
       "<style>\n",
       ".dl-inline {width: auto; margin:0; padding: 0}\n",
       ".dl-inline>dt, .dl-inline>dd {float: none; width: auto; display: inline-block}\n",
       ".dl-inline>dt::after {content: \":\\0020\"; padding-right: .5ex}\n",
       ".dl-inline>dt:not(:first-of-type) {padding-left: .5ex}\n",
       "</style><dl class=dl-inline><dt>INDIANAPOLIS</dt><dd>995379</dd><dt>FORT WAYNE</dt><dd>149194</dd><dt>MUNCIE</dt><dd>100433</dd><dt>ELKHART</dt><dd>100350</dd><dt>EVANSVILLE</dt><dd>84815</dd><dt>SOUTH BEND</dt><dd>81841</dd><dt>CARMEL</dt><dd>75993</dd><dt>TERRE HAUTE</dt><dd>62361</dd><dt>ZIONSVILLE</dt><dd>50900</dd><dt>COLUMBUS</dt><dd>40400</dd></dl>\n"
      ],
      "text/latex": [
       "\\begin{description*}\n",
       "\\item[INDIANAPOLIS] 995379\n",
       "\\item[FORT WAYNE] 149194\n",
       "\\item[MUNCIE] 100433\n",
       "\\item[ELKHART] 100350\n",
       "\\item[EVANSVILLE] 84815\n",
       "\\item[SOUTH BEND] 81841\n",
       "\\item[CARMEL] 75993\n",
       "\\item[TERRE HAUTE] 62361\n",
       "\\item[ZIONSVILLE] 50900\n",
       "\\item[COLUMBUS] 40400\n",
       "\\end{description*}\n"
      ],
      "text/markdown": [
       "INDIANAPOLIS\n",
       ":   995379FORT WAYNE\n",
       ":   149194MUNCIE\n",
       ":   100433ELKHART\n",
       ":   100350EVANSVILLE\n",
       ":   84815SOUTH BEND\n",
       ":   81841CARMEL\n",
       ":   75993TERRE HAUTE\n",
       ":   62361ZIONSVILLE\n",
       ":   50900COLUMBUS\n",
       ":   40400\n",
       "\n"
      ],
      "text/plain": [
       "INDIANAPOLIS   FORT WAYNE       MUNCIE      ELKHART   EVANSVILLE   SOUTH BEND \n",
       "      995379       149194       100433       100350        84815        81841 \n",
       "      CARMEL  TERRE HAUTE   ZIONSVILLE     COLUMBUS \n",
       "       75993        62361        50900        40400 "
      ]
     },
     "metadata": {},
     "output_type": "display_data"
    },
    {
     "data": {
      "text/html": [
       "<style>\n",
       ".dl-inline {width: auto; margin:0; padding: 0}\n",
       ".dl-inline>dt, .dl-inline>dd {float: none; width: auto; display: inline-block}\n",
       ".dl-inline>dt::after {content: \":\\0020\"; padding-right: .5ex}\n",
       ".dl-inline>dt:not(:first-of-type) {padding-left: .5ex}\n",
       "</style><dl class=dl-inline><dt>INDIANAPOLIS</dt><dd>2583618</dd><dt>FORT WAYNE</dt><dd>524980</dd><dt>CARMEL</dt><dd>384683</dd><dt>EVANSVILLE</dt><dd>308566</dd><dt>SOUTH BEND</dt><dd>274397</dd><dt>MUNCIE</dt><dd>251164</dd><dt>ELKHART</dt><dd>196432</dd><dt>COLUMBUS</dt><dd>143096</dd><dt>BLOOMINGTON</dt><dd>121733</dd><dt>ZIONSVILLE</dt><dd>94370</dd></dl>\n"
      ],
      "text/latex": [
       "\\begin{description*}\n",
       "\\item[INDIANAPOLIS] 2583618\n",
       "\\item[FORT WAYNE] 524980\n",
       "\\item[CARMEL] 384683\n",
       "\\item[EVANSVILLE] 308566\n",
       "\\item[SOUTH BEND] 274397\n",
       "\\item[MUNCIE] 251164\n",
       "\\item[ELKHART] 196432\n",
       "\\item[COLUMBUS] 143096\n",
       "\\item[BLOOMINGTON] 121733\n",
       "\\item[ZIONSVILLE] 94370\n",
       "\\end{description*}\n"
      ],
      "text/markdown": [
       "INDIANAPOLIS\n",
       ":   2583618FORT WAYNE\n",
       ":   524980CARMEL\n",
       ":   384683EVANSVILLE\n",
       ":   308566SOUTH BEND\n",
       ":   274397MUNCIE\n",
       ":   251164ELKHART\n",
       ":   196432COLUMBUS\n",
       ":   143096BLOOMINGTON\n",
       ":   121733ZIONSVILLE\n",
       ":   94370\n",
       "\n"
      ],
      "text/plain": [
       "INDIANAPOLIS   FORT WAYNE       CARMEL   EVANSVILLE   SOUTH BEND       MUNCIE \n",
       "     2583618       524980       384683       308566       274397       251164 \n",
       "     ELKHART     COLUMBUS  BLOOMINGTON   ZIONSVILLE \n",
       "      196432       143096       121733        94370 "
      ]
     },
     "metadata": {},
     "output_type": "display_data"
    }
   ],
   "source": [
    "library(data.table) \n",
    "\n",
    "myindycities <- function(myyear) {\n",
    "    myDF <- fread(\n",
    "        paste0(\"/anvil/projects/tdm/data/election/itcont\", myyear, \".txt\"), quote = \"\", select = c(9, 10, 15)\n",
    "    )\n",
    "    names(myDF) <- c(\"city\", \"state\", \"donation\")\n",
    "    myDF <- myDF[myDF$state == \"IN\", ]\n",
    "    city_totals <- tapply(myDF$donation, myDF$city, sum, na.rm = TRUE)\n",
    "    top_cities <- sort(city_totals, decreasing = TRUE)[1:10]\n",
    "    return(top_cities)\n",
    "}\n",
    "\n",
    "myindycities(1980)\n",
    "myindycities(1986)\n",
    "myindycities(1992)\n"
   ]
  },
  {
   "cell_type": "markdown",
   "id": "346b89e3-c681-4904-ad8a-9f5d9f358210",
   "metadata": {},
   "source": [
    "I read the file, selecting columns 9, 10, and 15 for city, state, and transaction data. I then renamed the columns to \"city\", \"state\", and \"donation\". After filtering the data to include only entries from the state of Indiana (IN), I used the tapply function to calculate the total donations for each city. The na.rm = TRUE argument was used to exclude any NA values when summing the donations. Finally, I sorted the cities by total donations in descending order and returned the top 10 cities for each year. I used this function to then list the totals for the different years given."
   ]
  },
  {
   "cell_type": "markdown",
   "id": "da22f29c-d245-4d2b-9fc1-ca14cb6087d9",
   "metadata": {},
   "source": [
    "## Question 4"
   ]
  },
  {
   "cell_type": "code",
   "execution_count": 19,
   "id": "8cffc767-d1c8-4d64-b7dc-f0d2ee8a80d1",
   "metadata": {},
   "outputs": [
    {
     "data": {
      "text/html": [
       "<dl>\n",
       "\t<dt>$`1984`</dt>\n",
       "\t\t<dd><style>\n",
       ".dl-inline {width: auto; margin:0; padding: 0}\n",
       ".dl-inline>dt, .dl-inline>dd {float: none; width: auto; display: inline-block}\n",
       ".dl-inline>dt::after {content: \":\\0020\"; padding-right: .5ex}\n",
       ".dl-inline>dt:not(:first-of-type) {padding-left: .5ex}\n",
       "</style><dl class=dl-inline><dt>INDIANAPOLIS</dt><dd>511935</dd><dt>MUNCIE</dt><dd>104260</dd><dt>ELKHART</dt><dd>93171</dd><dt>FORT WAYNE</dt><dd>80882</dd><dt>INDPLS</dt><dd>76520</dd><dt>SOUTH BEND</dt><dd>68387</dd><dt>EVANSVILLE</dt><dd>65250</dd><dt>CARMEL</dt><dd>53200</dd><dt>TERRE HAUTE</dt><dd>52650</dd><dt>FT WAYNE</dt><dd>44665</dd></dl>\n",
       "</dd>\n",
       "\t<dt>$`1986`</dt>\n",
       "\t\t<dd><style>\n",
       ".dl-inline {width: auto; margin:0; padding: 0}\n",
       ".dl-inline>dt, .dl-inline>dd {float: none; width: auto; display: inline-block}\n",
       ".dl-inline>dt::after {content: \":\\0020\"; padding-right: .5ex}\n",
       ".dl-inline>dt:not(:first-of-type) {padding-left: .5ex}\n",
       "</style><dl class=dl-inline><dt>INDIANAPOLIS</dt><dd>995379</dd><dt>FORT WAYNE</dt><dd>149194</dd><dt>MUNCIE</dt><dd>100433</dd><dt>ELKHART</dt><dd>100350</dd><dt>EVANSVILLE</dt><dd>84815</dd><dt>SOUTH BEND</dt><dd>81841</dd><dt>CARMEL</dt><dd>75993</dd><dt>TERRE HAUTE</dt><dd>62361</dd><dt>ZIONSVILLE</dt><dd>50900</dd><dt>COLUMBUS</dt><dd>40400</dd></dl>\n",
       "</dd>\n",
       "\t<dt>$`1988`</dt>\n",
       "\t\t<dd><style>\n",
       ".dl-inline {width: auto; margin:0; padding: 0}\n",
       ".dl-inline>dt, .dl-inline>dd {float: none; width: auto; display: inline-block}\n",
       ".dl-inline>dt::after {content: \":\\0020\"; padding-right: .5ex}\n",
       ".dl-inline>dt:not(:first-of-type) {padding-left: .5ex}\n",
       "</style><dl class=dl-inline><dt>INDIANAPOLIS</dt><dd>1231113</dd><dt>FORT WAYNE</dt><dd>189037</dd><dt>SOUTH BEND</dt><dd>185771</dd><dt>ELKHART</dt><dd>167767</dd><dt>MUNCIE</dt><dd>156335</dd><dt>CARMEL</dt><dd>148438</dd><dt>COLUMBUS</dt><dd>124308</dd><dt>EVANSVILLE</dt><dd>90893</dd><dt>ZIONSVILLE</dt><dd>88735</dd><dt>TERRE HAUTE</dt><dd>77425</dd></dl>\n",
       "</dd>\n",
       "\t<dt>$`1990`</dt>\n",
       "\t\t<dd><style>\n",
       ".dl-inline {width: auto; margin:0; padding: 0}\n",
       ".dl-inline>dt, .dl-inline>dd {float: none; width: auto; display: inline-block}\n",
       ".dl-inline>dt::after {content: \":\\0020\"; padding-right: .5ex}\n",
       ".dl-inline>dt:not(:first-of-type) {padding-left: .5ex}\n",
       "</style><dl class=dl-inline><dt>INDIANAPOLIS</dt><dd>1637113</dd><dt>FORT WAYNE</dt><dd>708475</dd><dt>CARMEL</dt><dd>210213</dd><dt>MUNCIE</dt><dd>206123</dd><dt>SOUTH BEND</dt><dd>179821</dd><dt>COLUMBUS</dt><dd>158797</dd><dt>EVANSVILLE</dt><dd>156916</dd><dt>ELKHART</dt><dd>150274</dd><dt>BLOOMINGTON</dt><dd>76821</dd><dt>ZIONSVILLE</dt><dd>61715</dd></dl>\n",
       "</dd>\n",
       "\t<dt>$`1992`</dt>\n",
       "\t\t<dd><style>\n",
       ".dl-inline {width: auto; margin:0; padding: 0}\n",
       ".dl-inline>dt, .dl-inline>dd {float: none; width: auto; display: inline-block}\n",
       ".dl-inline>dt::after {content: \":\\0020\"; padding-right: .5ex}\n",
       ".dl-inline>dt:not(:first-of-type) {padding-left: .5ex}\n",
       "</style><dl class=dl-inline><dt>INDIANAPOLIS</dt><dd>2583618</dd><dt>FORT WAYNE</dt><dd>524980</dd><dt>CARMEL</dt><dd>384683</dd><dt>EVANSVILLE</dt><dd>308566</dd><dt>SOUTH BEND</dt><dd>274397</dd><dt>MUNCIE</dt><dd>251164</dd><dt>ELKHART</dt><dd>196432</dd><dt>COLUMBUS</dt><dd>143096</dd><dt>BLOOMINGTON</dt><dd>121733</dd><dt>ZIONSVILLE</dt><dd>94370</dd></dl>\n",
       "</dd>\n",
       "\t<dt>$`1994`</dt>\n",
       "\t\t<dd><style>\n",
       ".dl-inline {width: auto; margin:0; padding: 0}\n",
       ".dl-inline>dt, .dl-inline>dd {float: none; width: auto; display: inline-block}\n",
       ".dl-inline>dt::after {content: \":\\0020\"; padding-right: .5ex}\n",
       ".dl-inline>dt:not(:first-of-type) {padding-left: .5ex}\n",
       "</style><dl class=dl-inline><dt>INDIANAPOLIS</dt><dd>2420038</dd><dt>FORT WAYNE</dt><dd>383573</dd><dt>CARMEL</dt><dd>355784</dd><dt>EVANSVILLE</dt><dd>272368</dd><dt>SOUTH BEND</dt><dd>234181</dd><dt>MUNCIE</dt><dd>230618</dd><dt>COLUMBUS</dt><dd>179646</dd><dt>ZIONSVILLE</dt><dd>108472</dd><dt>MERRILLVILLE</dt><dd>102443</dd><dt>BLOOMINGTON</dt><dd>100040</dd></dl>\n",
       "</dd>\n",
       "</dl>\n"
      ],
      "text/latex": [
       "\\begin{description}\n",
       "\\item[\\$`1984`] \\begin{description*}\n",
       "\\item[INDIANAPOLIS] 511935\n",
       "\\item[MUNCIE] 104260\n",
       "\\item[ELKHART] 93171\n",
       "\\item[FORT WAYNE] 80882\n",
       "\\item[INDPLS] 76520\n",
       "\\item[SOUTH BEND] 68387\n",
       "\\item[EVANSVILLE] 65250\n",
       "\\item[CARMEL] 53200\n",
       "\\item[TERRE HAUTE] 52650\n",
       "\\item[FT WAYNE] 44665\n",
       "\\end{description*}\n",
       "\n",
       "\\item[\\$`1986`] \\begin{description*}\n",
       "\\item[INDIANAPOLIS] 995379\n",
       "\\item[FORT WAYNE] 149194\n",
       "\\item[MUNCIE] 100433\n",
       "\\item[ELKHART] 100350\n",
       "\\item[EVANSVILLE] 84815\n",
       "\\item[SOUTH BEND] 81841\n",
       "\\item[CARMEL] 75993\n",
       "\\item[TERRE HAUTE] 62361\n",
       "\\item[ZIONSVILLE] 50900\n",
       "\\item[COLUMBUS] 40400\n",
       "\\end{description*}\n",
       "\n",
       "\\item[\\$`1988`] \\begin{description*}\n",
       "\\item[INDIANAPOLIS] 1231113\n",
       "\\item[FORT WAYNE] 189037\n",
       "\\item[SOUTH BEND] 185771\n",
       "\\item[ELKHART] 167767\n",
       "\\item[MUNCIE] 156335\n",
       "\\item[CARMEL] 148438\n",
       "\\item[COLUMBUS] 124308\n",
       "\\item[EVANSVILLE] 90893\n",
       "\\item[ZIONSVILLE] 88735\n",
       "\\item[TERRE HAUTE] 77425\n",
       "\\end{description*}\n",
       "\n",
       "\\item[\\$`1990`] \\begin{description*}\n",
       "\\item[INDIANAPOLIS] 1637113\n",
       "\\item[FORT WAYNE] 708475\n",
       "\\item[CARMEL] 210213\n",
       "\\item[MUNCIE] 206123\n",
       "\\item[SOUTH BEND] 179821\n",
       "\\item[COLUMBUS] 158797\n",
       "\\item[EVANSVILLE] 156916\n",
       "\\item[ELKHART] 150274\n",
       "\\item[BLOOMINGTON] 76821\n",
       "\\item[ZIONSVILLE] 61715\n",
       "\\end{description*}\n",
       "\n",
       "\\item[\\$`1992`] \\begin{description*}\n",
       "\\item[INDIANAPOLIS] 2583618\n",
       "\\item[FORT WAYNE] 524980\n",
       "\\item[CARMEL] 384683\n",
       "\\item[EVANSVILLE] 308566\n",
       "\\item[SOUTH BEND] 274397\n",
       "\\item[MUNCIE] 251164\n",
       "\\item[ELKHART] 196432\n",
       "\\item[COLUMBUS] 143096\n",
       "\\item[BLOOMINGTON] 121733\n",
       "\\item[ZIONSVILLE] 94370\n",
       "\\end{description*}\n",
       "\n",
       "\\item[\\$`1994`] \\begin{description*}\n",
       "\\item[INDIANAPOLIS] 2420038\n",
       "\\item[FORT WAYNE] 383573\n",
       "\\item[CARMEL] 355784\n",
       "\\item[EVANSVILLE] 272368\n",
       "\\item[SOUTH BEND] 234181\n",
       "\\item[MUNCIE] 230618\n",
       "\\item[COLUMBUS] 179646\n",
       "\\item[ZIONSVILLE] 108472\n",
       "\\item[MERRILLVILLE] 102443\n",
       "\\item[BLOOMINGTON] 100040\n",
       "\\end{description*}\n",
       "\n",
       "\\end{description}\n"
      ],
      "text/markdown": [
       "$`1984`\n",
       ":   INDIANAPOLIS\n",
       ":   511935MUNCIE\n",
       ":   104260ELKHART\n",
       ":   93171FORT WAYNE\n",
       ":   80882INDPLS\n",
       ":   76520SOUTH BEND\n",
       ":   68387EVANSVILLE\n",
       ":   65250CARMEL\n",
       ":   53200TERRE HAUTE\n",
       ":   52650FT WAYNE\n",
       ":   44665\n",
       "\n",
       "\n",
       "$`1986`\n",
       ":   INDIANAPOLIS\n",
       ":   995379FORT WAYNE\n",
       ":   149194MUNCIE\n",
       ":   100433ELKHART\n",
       ":   100350EVANSVILLE\n",
       ":   84815SOUTH BEND\n",
       ":   81841CARMEL\n",
       ":   75993TERRE HAUTE\n",
       ":   62361ZIONSVILLE\n",
       ":   50900COLUMBUS\n",
       ":   40400\n",
       "\n",
       "\n",
       "$`1988`\n",
       ":   INDIANAPOLIS\n",
       ":   1231113FORT WAYNE\n",
       ":   189037SOUTH BEND\n",
       ":   185771ELKHART\n",
       ":   167767MUNCIE\n",
       ":   156335CARMEL\n",
       ":   148438COLUMBUS\n",
       ":   124308EVANSVILLE\n",
       ":   90893ZIONSVILLE\n",
       ":   88735TERRE HAUTE\n",
       ":   77425\n",
       "\n",
       "\n",
       "$`1990`\n",
       ":   INDIANAPOLIS\n",
       ":   1637113FORT WAYNE\n",
       ":   708475CARMEL\n",
       ":   210213MUNCIE\n",
       ":   206123SOUTH BEND\n",
       ":   179821COLUMBUS\n",
       ":   158797EVANSVILLE\n",
       ":   156916ELKHART\n",
       ":   150274BLOOMINGTON\n",
       ":   76821ZIONSVILLE\n",
       ":   61715\n",
       "\n",
       "\n",
       "$`1992`\n",
       ":   INDIANAPOLIS\n",
       ":   2583618FORT WAYNE\n",
       ":   524980CARMEL\n",
       ":   384683EVANSVILLE\n",
       ":   308566SOUTH BEND\n",
       ":   274397MUNCIE\n",
       ":   251164ELKHART\n",
       ":   196432COLUMBUS\n",
       ":   143096BLOOMINGTON\n",
       ":   121733ZIONSVILLE\n",
       ":   94370\n",
       "\n",
       "\n",
       "$`1994`\n",
       ":   INDIANAPOLIS\n",
       ":   2420038FORT WAYNE\n",
       ":   383573CARMEL\n",
       ":   355784EVANSVILLE\n",
       ":   272368SOUTH BEND\n",
       ":   234181MUNCIE\n",
       ":   230618COLUMBUS\n",
       ":   179646ZIONSVILLE\n",
       ":   108472MERRILLVILLE\n",
       ":   102443BLOOMINGTON\n",
       ":   100040\n",
       "\n",
       "\n",
       "\n",
       "\n"
      ],
      "text/plain": [
       "$`1984`\n",
       "INDIANAPOLIS       MUNCIE      ELKHART   FORT WAYNE       INDPLS   SOUTH BEND \n",
       "      511935       104260        93171        80882        76520        68387 \n",
       "  EVANSVILLE       CARMEL  TERRE HAUTE     FT WAYNE \n",
       "       65250        53200        52650        44665 \n",
       "\n",
       "$`1986`\n",
       "INDIANAPOLIS   FORT WAYNE       MUNCIE      ELKHART   EVANSVILLE   SOUTH BEND \n",
       "      995379       149194       100433       100350        84815        81841 \n",
       "      CARMEL  TERRE HAUTE   ZIONSVILLE     COLUMBUS \n",
       "       75993        62361        50900        40400 \n",
       "\n",
       "$`1988`\n",
       "INDIANAPOLIS   FORT WAYNE   SOUTH BEND      ELKHART       MUNCIE       CARMEL \n",
       "     1231113       189037       185771       167767       156335       148438 \n",
       "    COLUMBUS   EVANSVILLE   ZIONSVILLE  TERRE HAUTE \n",
       "      124308        90893        88735        77425 \n",
       "\n",
       "$`1990`\n",
       "INDIANAPOLIS   FORT WAYNE       CARMEL       MUNCIE   SOUTH BEND     COLUMBUS \n",
       "     1637113       708475       210213       206123       179821       158797 \n",
       "  EVANSVILLE      ELKHART  BLOOMINGTON   ZIONSVILLE \n",
       "      156916       150274        76821        61715 \n",
       "\n",
       "$`1992`\n",
       "INDIANAPOLIS   FORT WAYNE       CARMEL   EVANSVILLE   SOUTH BEND       MUNCIE \n",
       "     2583618       524980       384683       308566       274397       251164 \n",
       "     ELKHART     COLUMBUS  BLOOMINGTON   ZIONSVILLE \n",
       "      196432       143096       121733        94370 \n",
       "\n",
       "$`1994`\n",
       "INDIANAPOLIS   FORT WAYNE       CARMEL   EVANSVILLE   SOUTH BEND       MUNCIE \n",
       "     2420038       383573       355784       272368       234181       230618 \n",
       "    COLUMBUS   ZIONSVILLE MERRILLVILLE  BLOOMINGTON \n",
       "      179646       108472       102443       100040 \n"
      ]
     },
     "metadata": {},
     "output_type": "display_data"
    },
    {
     "name": "stderr",
     "output_type": "stream",
     "text": [
      "Warning message in dotchart(x):\n",
      "\"'x' is neither a vector nor a matrix: using as.numeric(x)\"\n",
      "Warning message in dotchart(x):\n",
      "\"'x' is neither a vector nor a matrix: using as.numeric(x)\"\n",
      "Warning message in dotchart(x):\n",
      "\"'x' is neither a vector nor a matrix: using as.numeric(x)\"\n",
      "Warning message in dotchart(x):\n",
      "\"'x' is neither a vector nor a matrix: using as.numeric(x)\"\n",
      "Warning message in dotchart(x):\n",
      "\"'x' is neither a vector nor a matrix: using as.numeric(x)\"\n",
      "Warning message in dotchart(x):\n",
      "\"'x' is neither a vector nor a matrix: using as.numeric(x)\"\n"
     ]
    },
    {
     "data": {
      "text/html": [
       "<dl>\n",
       "\t<dt>$`1984`</dt>\n",
       "\t\t<dd>NULL</dd>\n",
       "\t<dt>$`1986`</dt>\n",
       "\t\t<dd>NULL</dd>\n",
       "\t<dt>$`1988`</dt>\n",
       "\t\t<dd>NULL</dd>\n",
       "\t<dt>$`1990`</dt>\n",
       "\t\t<dd>NULL</dd>\n",
       "\t<dt>$`1992`</dt>\n",
       "\t\t<dd>NULL</dd>\n",
       "\t<dt>$`1994`</dt>\n",
       "\t\t<dd>NULL</dd>\n",
       "</dl>\n"
      ],
      "text/latex": [
       "\\begin{description}\n",
       "\\item[\\$`1984`] NULL\n",
       "\\item[\\$`1986`] NULL\n",
       "\\item[\\$`1988`] NULL\n",
       "\\item[\\$`1990`] NULL\n",
       "\\item[\\$`1992`] NULL\n",
       "\\item[\\$`1994`] NULL\n",
       "\\end{description}\n"
      ],
      "text/markdown": [
       "$`1984`\n",
       ":   NULL\n",
       "$`1986`\n",
       ":   NULL\n",
       "$`1988`\n",
       ":   NULL\n",
       "$`1990`\n",
       ":   NULL\n",
       "$`1992`\n",
       ":   NULL\n",
       "$`1994`\n",
       ":   NULL\n",
       "\n",
       "\n"
      ],
      "text/plain": [
       "$`1984`\n",
       "NULL\n",
       "\n",
       "$`1986`\n",
       "NULL\n",
       "\n",
       "$`1988`\n",
       "NULL\n",
       "\n",
       "$`1990`\n",
       "NULL\n",
       "\n",
       "$`1992`\n",
       "NULL\n",
       "\n",
       "$`1994`\n",
       "NULL\n"
      ]
     },
     "metadata": {},
     "output_type": "display_data"
    },
    {
     "data": {
      "image/png": "[encoded data removed]",
      "text/plain": [
       "plot without title"
      ]
     },
     "metadata": {
      "image/png": {
       "height": 420,
       "width": 420
      }
     },
     "output_type": "display_data"
    }
   ],
   "source": [
    "myresults <- lapply(seq(1984, 1994, by = 2), myindycities)\n",
    "names(myresults) <- seq(1984, 1994, by = 2)\n",
    "myresults\n",
    "\n",
    "par(mfrow = c(3, 2))\n",
    "sapply(myresults, function(x) dotchart(x))\n"
   ]
  },
  {
   "cell_type": "markdown",
   "id": "0d552245-b4d6-474a-9cc9-fa7b8e674d55",
   "metadata": {},
   "source": [
    "I used lapply to apply the myindycities function to each even-numbered year from 1984 to 1994. I then named the results according to the years. After that, I set up a 3x2 plotting layout with par(mfrow = c(3, 2)) and used sapply to create a dotchart for each year's data. The dotcharts display the top cities for donations in each of those years."
   ]
  },
  {
   "cell_type": "markdown",
   "id": "88c9cdac-3e92-498f-83fa-e089bfc44ac8",
   "metadata": {},
   "source": [
    "## Question 5"
   ]
  },
  {
   "cell_type": "code",
   "execution_count": 30,
   "id": "39c4c97e-5d24-40f0-85f2-71bb1084963d",
   "metadata": {
    "scrolled": true
   },
   "outputs": [
    {
     "name": "stdout",
     "output_type": "stream",
     "text": [
      "Average Stars for BJ:  4.305804 \n",
      "Average Stars for Breyers:  4.027961 \n",
      "Average Stars for HD:  4.218475 \n",
      "Average Stars for Talenti:  4.311624 \n"
     ]
    }
   ],
   "source": [
    "bj_df <- fread( \"/anvil/projects/tdm/data/icecream/bj/reviews.csv\", select = \"stars\")\n",
    "breyers_df <- fread(\"/anvil/projects/tdm/data/icecream/breyers/reviews.csv\", select = \"stars\")\n",
    "hd_df <- fread(\"/anvil/projects/tdm/data/icecream/hd/reviews.csv\", select = \"stars\")\n",
    "talenti_df <- fread(\"/anvil/projects/tdm/data/icecream/talenti/reviews.csv\", select = \"stars\")\n",
    "\n",
    "bj_avg <- mean(bj_df$stars, na.rm = TRUE)\n",
    "breyers_avg <- mean(breyers_df$stars, na.rm = TRUE)\n",
    "hd_avg <- mean(hd_df$stars, na.rm = TRUE)\n",
    "talenti_avg <- mean(talenti_df$stars, na.rm = TRUE)\n",
    "\n",
    "cat(\"Average Stars for BJ: \", bj_avg, \"\\n\")\n",
    "cat(\"Average Stars for Breyers: \", breyers_avg, \"\\n\")\n",
    "cat(\"Average Stars for HD: \", hd_avg, \"\\n\")\n",
    "cat(\"Average Stars for Talenti: \", talenti_avg, \"\\n\")\n",
    "\n"
   ]
  },
  {
   "cell_type": "markdown",
   "id": "292c693d-ba60-4cb0-9970-2cfaf5fb7c87",
   "metadata": {},
   "source": [
    "These are the average stars for each of the companies not using any functions."
   ]
  },
  {
   "cell_type": "code",
   "execution_count": 32,
   "id": "d370d7c9-06db-42b9-b75f-240481a5c491",
   "metadata": {},
   "outputs": [
    {
     "name": "stdout",
     "output_type": "stream",
     "text": [
      "      bj  breyers       hd  talenti \n",
      "4.305804 4.027961 4.218475 4.311624 \n"
     ]
    }
   ],
   "source": [
    "myavgstars <- function(company) {\n",
    "    myDF <- fread(paste0(\"/anvil/projects/tdm/data/icecream/\", company, \"/reviews.csv\"), select = \"stars\")\n",
    "    avg_stars <- mean(myDF$stars, na.rm = TRUE)\n",
    "    return(avg_stars)\n",
    "}\n",
    "\n",
    "mycompanies <- c(\"bj\", \"breyers\", \"hd\", \"talenti\")\n",
    "average_stars <- sapply(mycompanies, myavgstars)\n",
    "print(average_stars)\n"
   ]
  },
  {
   "cell_type": "markdown",
   "id": "9fbf00fb-2418-460f-ae94-2a32b0c28952",
   "metadata": {},
   "source": [
    "I created a function called myavgstars that takes a company name as input. Inside the function, I used fread to read the company's review file and selected the \"stars\" column. I then calculated the average number of stars using the mean function, with na.rm = TRUE to exclude any missing values. After defining the function, I applied it to a vector of company names (mycompanies) using sapply. Finally, I printed the average stars for each company."
   ]
  },
  {
   "cell_type": "markdown",
   "id": "f76442d6-d02e-4f26-b9d6-c3183e1d6929",
   "metadata": {},
   "source": [
    "## Pledge\n",
    "\n",
    "By submitting this work I hereby pledge that this is my own, personal work. I've acknowledged in the designated place at the top of this file all sources that I used to complete said work, including but not limited to: online resources, books, and electronic communications. I've noted all collaboration with fellow students and/or TA's. I did not copy or plagiarize another's work.\n",
    "\n",
    "> As a Boilermaker pursuing academic excellence, I pledge to be honest and true in all that I do. Accountable together – We are Purdue."
   ]
  }
 ],
 "metadata": {
  "kernelspec": {
   "display_name": "seminar-r",
   "language": "R",
   "name": "seminar-r"
  },
  "language_info": {
   "codemirror_mode": "r",
   "file_extension": ".r",
   "mimetype": "text/x-r-source",
   "name": "R",
   "pygments_lexer": "r",
   "version": "4.4.1"
  }
 },
 "nbformat": 4,
 "nbformat_minor": 5
}
