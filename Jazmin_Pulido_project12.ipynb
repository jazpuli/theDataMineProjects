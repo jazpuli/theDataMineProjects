{
 "cells": [
  {
   "cell_type": "markdown",
   "id": "be02a957-7133-4d02-818e-fedeb3cecb05",
   "metadata": {},
   "source": [
    "# Project 12 -- Jazmin Pulido"
   ]
  },
  {
   "cell_type": "markdown",
   "id": "a1228853-dd19-4ab2-89e0-0394d7d72de3",
   "metadata": {},
   "source": [
    "**TA Help:** N/A\n",
    "\n",
    "- Helped with...\n",
    "    \n",
    "**Collaboration:** N/A\n",
    "    \n",
    "- Helped with..."
   ]
  },
  {
   "cell_type": "markdown",
   "id": "6180e742-8e39-4698-98ff-5b00c8cf8ea0",
   "metadata": {},
   "source": [
    "## Question 1"
   ]
  },
  {
   "cell_type": "code",
   "execution_count": 1,
   "id": "49445606-d363-41b4-b479-e319a9a84c01",
   "metadata": {},
   "outputs": [
    {
     "data": {
      "text/html": [
       "<table class=\"dataframe\">\n",
       "<caption>A data.table: 6 x 24</caption>\n",
       "<thead>\n",
       "\t<tr><th scope=col>Invoice/Item Number</th><th scope=col>Date</th><th scope=col>Store Number</th><th scope=col>Store Name</th><th scope=col>Address</th><th scope=col>City</th><th scope=col>Zip Code</th><th scope=col>Store Location</th><th scope=col>County Number</th><th scope=col>County</th><th scope=col>Category</th><th scope=col>Category Name</th><th scope=col>Vendor Number</th><th scope=col>Vendor Name</th><th scope=col>Item Number</th><th scope=col>Item Description</th><th scope=col>Pack</th><th scope=col>Bottle Volume (ml)</th><th scope=col>State Bottle Cost</th><th scope=col>State Bottle Retail</th><th scope=col>Bottles Sold</th><th scope=col>Sale (Dollars)</th><th scope=col>Volume Sold (Liters)</th><th scope=col>Volume Sold (Gallons)</th></tr>\n",
       "\t<tr><th scope=col>&lt;chr&gt;</th><th scope=col>&lt;chr&gt;</th><th scope=col>&lt;int&gt;</th><th scope=col>&lt;chr&gt;</th><th scope=col>&lt;chr&gt;</th><th scope=col>&lt;chr&gt;</th><th scope=col>&lt;chr&gt;</th><th scope=col>&lt;chr&gt;</th><th scope=col>&lt;int&gt;</th><th scope=col>&lt;chr&gt;</th><th scope=col>&lt;int&gt;</th><th scope=col>&lt;chr&gt;</th><th scope=col>&lt;int&gt;</th><th scope=col>&lt;chr&gt;</th><th scope=col>&lt;int&gt;</th><th scope=col>&lt;chr&gt;</th><th scope=col>&lt;int&gt;</th><th scope=col>&lt;int&gt;</th><th scope=col>&lt;dbl&gt;</th><th scope=col>&lt;dbl&gt;</th><th scope=col>&lt;int&gt;</th><th scope=col>&lt;dbl&gt;</th><th scope=col>&lt;dbl&gt;</th><th scope=col>&lt;dbl&gt;</th></tr>\n",
       "</thead>\n",
       "<tbody>\n",
       "\t<tr><td>S07122800016</td><td>08/16/2012</td><td>2846</td><td>CVS PHARMACY #8443 / CEDAR RAPIDS  </td><td>3419 16TH AVE SW    </td><td>CEDAR RAPIDS  </td><td>52404</td><td>POINT (-91.716615 41.963516)        </td><td>57</td><td>LINN   </td><td>1012100</td><td>CANADIAN WHISKIES                 </td><td> 55</td><td>SAZERAC NORTH AMERICA   </td><td>12408</td><td>CANADIAN LTD WHISKY               </td><td> 6</td><td>1750</td><td> 8.99</td><td>13.49</td><td> 3</td><td> 40.47</td><td> 5.25</td><td>1.39</td></tr>\n",
       "\t<tr><td>S21151400007</td><td>09/10/2014</td><td>3894</td><td>SMOKIN' JOE'S #6 TOBACCO AND LIQUOR</td><td>1404  1ST AVE NE    </td><td>CEDAR RAPIDS  </td><td>52402</td><td>POINT (-91.6537 41.987286)          </td><td>57</td><td>LINN   </td><td>1031080</td><td>VODKA 80 PROOF                    </td><td>434</td><td>LUXCO-ST LOUIS          </td><td>36306</td><td>HAWKEYE VODKA                     </td><td>12</td><td> 750</td><td> 3.34</td><td> 5.01</td><td>12</td><td> 60.12</td><td> 9.00</td><td>2.38</td></tr>\n",
       "\t<tr><td>S11572100060</td><td>04/10/2013</td><td>2558</td><td>HY-VEE FOOD STORE / MOUNT PLEASANT </td><td><span style=white-space:pre-wrap>1700 E WASHINGTON   </span></td><td>MOUNT PLEASANT</td><td>52641</td><td>POINT (-91.52888 40.962331000000006)</td><td>44</td><td><span style=white-space:pre-wrap>HENRY  </span></td><td>1082900</td><td>MISC. IMPORTED CORDIALS &amp; LIQUEURS</td><td> 85</td><td>BROWN-FORMAN CORPORATION</td><td>64676</td><td>CHAMBORD LIQUEUR ROYALE DE FRANCE </td><td>12</td><td> 750</td><td>18.56</td><td>27.84</td><td> 2</td><td> 55.68</td><td> 1.50</td><td>0.40</td></tr>\n",
       "\t<tr><td>S07453200005</td><td>08/30/2012</td><td>4680</td><td><span style=white-space:pre-wrap>AFAL FOOD &amp; LIQUOR / DES MOINES    </span></td><td><span style=white-space:pre-wrap>4121 SE 14TH ST     </span></td><td><span style=white-space:pre-wrap>DES MOINES    </span></td><td>50320</td><td><span style=white-space:pre-wrap>POINT (-93.596755 41.5464)          </span></td><td>77</td><td><span style=white-space:pre-wrap>POLK   </span></td><td>1051010</td><td><span style=white-space:pre-wrap>AMERICAN GRAPE BRANDIES           </span></td><td>205</td><td><span style=white-space:pre-wrap>E AND J GALLO WINERY    </span></td><td>52594</td><td><span style=white-space:pre-wrap>E &amp; J VS BRANDY                   </span></td><td>24</td><td> 375</td><td> 2.93</td><td> 4.40</td><td> 3</td><td> 13.20</td><td> 1.12</td><td>0.30</td></tr>\n",
       "\t<tr><td>S23684100152</td><td>01/26/2015</td><td>2590</td><td>HY-VEE FOOD STORE #5 / CEDAR RAPIDS</td><td>3235 OAKLAND ROAD NE</td><td>CEDAR RAPIDS  </td><td>52402</td><td>POINT (-91.658105 42.010971)        </td><td>57</td><td>LINN   </td><td>1081600</td><td>WHISKEY LIQUEUR                   </td><td>259</td><td>HEAVEN HILL BRANDS      </td><td>86796</td><td>SOUTHERN HOST WHISKEY LIQUEUR     </td><td>12</td><td> 750</td><td> 5.37</td><td> 8.06</td><td> 4</td><td> 32.24</td><td> 3.00</td><td>0.79</td></tr>\n",
       "\t<tr><td>S06685900003</td><td>07/19/2012</td><td>4126</td><td>SAM'S MAINSTREET MARKET / SOLON    </td><td>123 E MAIN ST       </td><td>SOLON         </td><td>52333</td><td>POINT (-91.494611 41.807199)        </td><td>52</td><td>JOHNSON</td><td>1081390</td><td>IMPORTED SCHNAPPS                 </td><td>421</td><td>SAZERAC CO., INC.       </td><td>69637</td><td>DR. MCGILLICUDDY'S CHERRY SCHNAPPS</td><td>12</td><td>1000</td><td>11.00</td><td>16.50</td><td>12</td><td>198.00</td><td>12.00</td><td>3.17</td></tr>\n",
       "</tbody>\n",
       "</table>\n"
      ],
      "text/latex": [
       "A data.table: 6 x 24\n",
       "\\begin{tabular}{llllllllllllllllllllllll}\n",
       " Invoice/Item Number & Date & Store Number & Store Name & Address & City & Zip Code & Store Location & County Number & County & Category & Category Name & Vendor Number & Vendor Name & Item Number & Item Description & Pack & Bottle Volume (ml) & State Bottle Cost & State Bottle Retail & Bottles Sold & Sale (Dollars) & Volume Sold (Liters) & Volume Sold (Gallons)\\\\\n",
       " <chr> & <chr> & <int> & <chr> & <chr> & <chr> & <chr> & <chr> & <int> & <chr> & <int> & <chr> & <int> & <chr> & <int> & <chr> & <int> & <int> & <dbl> & <dbl> & <int> & <dbl> & <dbl> & <dbl>\\\\\n",
       "\\hline\n",
       "\t S07122800016 & 08/16/2012 & 2846 & CVS PHARMACY \\#8443 / CEDAR RAPIDS   & 3419 16TH AVE SW     & CEDAR RAPIDS   & 52404 & POINT (-91.716615 41.963516)         & 57 & LINN    & 1012100 & CANADIAN WHISKIES                  &  55 & SAZERAC NORTH AMERICA    & 12408 & CANADIAN LTD WHISKY                &  6 & 1750 &  8.99 & 13.49 &  3 &  40.47 &  5.25 & 1.39\\\\\n",
       "\t S21151400007 & 09/10/2014 & 3894 & SMOKIN' JOE'S \\#6 TOBACCO AND LIQUOR & 1404  1ST AVE NE     & CEDAR RAPIDS   & 52402 & POINT (-91.6537 41.987286)           & 57 & LINN    & 1031080 & VODKA 80 PROOF                     & 434 & LUXCO-ST LOUIS           & 36306 & HAWKEYE VODKA                      & 12 &  750 &  3.34 &  5.01 & 12 &  60.12 &  9.00 & 2.38\\\\\n",
       "\t S11572100060 & 04/10/2013 & 2558 & HY-VEE FOOD STORE / MOUNT PLEASANT  & 1700 E WASHINGTON    & MOUNT PLEASANT & 52641 & POINT (-91.52888 40.962331000000006) & 44 & HENRY   & 1082900 & MISC. IMPORTED CORDIALS \\& LIQUEURS &  85 & BROWN-FORMAN CORPORATION & 64676 & CHAMBORD LIQUEUR ROYALE DE FRANCE  & 12 &  750 & 18.56 & 27.84 &  2 &  55.68 &  1.50 & 0.40\\\\\n",
       "\t S07453200005 & 08/30/2012 & 4680 & AFAL FOOD \\& LIQUOR / DES MOINES     & 4121 SE 14TH ST      & DES MOINES     & 50320 & POINT (-93.596755 41.5464)           & 77 & POLK    & 1051010 & AMERICAN GRAPE BRANDIES            & 205 & E AND J GALLO WINERY     & 52594 & E \\& J VS BRANDY                    & 24 &  375 &  2.93 &  4.40 &  3 &  13.20 &  1.12 & 0.30\\\\\n",
       "\t S23684100152 & 01/26/2015 & 2590 & HY-VEE FOOD STORE \\#5 / CEDAR RAPIDS & 3235 OAKLAND ROAD NE & CEDAR RAPIDS   & 52402 & POINT (-91.658105 42.010971)         & 57 & LINN    & 1081600 & WHISKEY LIQUEUR                    & 259 & HEAVEN HILL BRANDS       & 86796 & SOUTHERN HOST WHISKEY LIQUEUR      & 12 &  750 &  5.37 &  8.06 &  4 &  32.24 &  3.00 & 0.79\\\\\n",
       "\t S06685900003 & 07/19/2012 & 4126 & SAM'S MAINSTREET MARKET / SOLON     & 123 E MAIN ST        & SOLON          & 52333 & POINT (-91.494611 41.807199)         & 52 & JOHNSON & 1081390 & IMPORTED SCHNAPPS                  & 421 & SAZERAC CO., INC.        & 69637 & DR. MCGILLICUDDY'S CHERRY SCHNAPPS & 12 & 1000 & 11.00 & 16.50 & 12 & 198.00 & 12.00 & 3.17\\\\\n",
       "\\end{tabular}\n"
      ],
      "text/markdown": [
       "\n",
       "A data.table: 6 x 24\n",
       "\n",
       "| Invoice/Item Number &lt;chr&gt; | Date &lt;chr&gt; | Store Number &lt;int&gt; | Store Name &lt;chr&gt; | Address &lt;chr&gt; | City &lt;chr&gt; | Zip Code &lt;chr&gt; | Store Location &lt;chr&gt; | County Number &lt;int&gt; | County &lt;chr&gt; | Category &lt;int&gt; | Category Name &lt;chr&gt; | Vendor Number &lt;int&gt; | Vendor Name &lt;chr&gt; | Item Number &lt;int&gt; | Item Description &lt;chr&gt; | Pack &lt;int&gt; | Bottle Volume (ml) &lt;int&gt; | State Bottle Cost &lt;dbl&gt; | State Bottle Retail &lt;dbl&gt; | Bottles Sold &lt;int&gt; | Sale (Dollars) &lt;dbl&gt; | Volume Sold (Liters) &lt;dbl&gt; | Volume Sold (Gallons) &lt;dbl&gt; |\n",
       "|---|---|---|---|---|---|---|---|---|---|---|---|---|---|---|---|---|---|---|---|---|---|---|---|\n",
       "| S07122800016 | 08/16/2012 | 2846 | CVS PHARMACY #8443 / CEDAR RAPIDS   | 3419 16TH AVE SW     | CEDAR RAPIDS   | 52404 | POINT (-91.716615 41.963516)         | 57 | LINN    | 1012100 | CANADIAN WHISKIES                  |  55 | SAZERAC NORTH AMERICA    | 12408 | CANADIAN LTD WHISKY                |  6 | 1750 |  8.99 | 13.49 |  3 |  40.47 |  5.25 | 1.39 |\n",
       "| S21151400007 | 09/10/2014 | 3894 | SMOKIN' JOE'S #6 TOBACCO AND LIQUOR | 1404  1ST AVE NE     | CEDAR RAPIDS   | 52402 | POINT (-91.6537 41.987286)           | 57 | LINN    | 1031080 | VODKA 80 PROOF                     | 434 | LUXCO-ST LOUIS           | 36306 | HAWKEYE VODKA                      | 12 |  750 |  3.34 |  5.01 | 12 |  60.12 |  9.00 | 2.38 |\n",
       "| S11572100060 | 04/10/2013 | 2558 | HY-VEE FOOD STORE / MOUNT PLEASANT  | 1700 E WASHINGTON    | MOUNT PLEASANT | 52641 | POINT (-91.52888 40.962331000000006) | 44 | HENRY   | 1082900 | MISC. IMPORTED CORDIALS &amp; LIQUEURS |  85 | BROWN-FORMAN CORPORATION | 64676 | CHAMBORD LIQUEUR ROYALE DE FRANCE  | 12 |  750 | 18.56 | 27.84 |  2 |  55.68 |  1.50 | 0.40 |\n",
       "| S07453200005 | 08/30/2012 | 4680 | AFAL FOOD &amp; LIQUOR / DES MOINES     | 4121 SE 14TH ST      | DES MOINES     | 50320 | POINT (-93.596755 41.5464)           | 77 | POLK    | 1051010 | AMERICAN GRAPE BRANDIES            | 205 | E AND J GALLO WINERY     | 52594 | E &amp; J VS BRANDY                    | 24 |  375 |  2.93 |  4.40 |  3 |  13.20 |  1.12 | 0.30 |\n",
       "| S23684100152 | 01/26/2015 | 2590 | HY-VEE FOOD STORE #5 / CEDAR RAPIDS | 3235 OAKLAND ROAD NE | CEDAR RAPIDS   | 52402 | POINT (-91.658105 42.010971)         | 57 | LINN    | 1081600 | WHISKEY LIQUEUR                    | 259 | HEAVEN HILL BRANDS       | 86796 | SOUTHERN HOST WHISKEY LIQUEUR      | 12 |  750 |  5.37 |  8.06 |  4 |  32.24 |  3.00 | 0.79 |\n",
       "| S06685900003 | 07/19/2012 | 4126 | SAM'S MAINSTREET MARKET / SOLON     | 123 E MAIN ST        | SOLON          | 52333 | POINT (-91.494611 41.807199)         | 52 | JOHNSON | 1081390 | IMPORTED SCHNAPPS                  | 421 | SAZERAC CO., INC.        | 69637 | DR. MCGILLICUDDY'S CHERRY SCHNAPPS | 12 | 1000 | 11.00 | 16.50 | 12 | 198.00 | 12.00 | 3.17 |\n",
       "\n"
      ],
      "text/plain": [
       "  Invoice/Item Number Date       Store Number\n",
       "1 S07122800016        08/16/2012 2846        \n",
       "2 S21151400007        09/10/2014 3894        \n",
       "3 S11572100060        04/10/2013 2558        \n",
       "4 S07453200005        08/30/2012 4680        \n",
       "5 S23684100152        01/26/2015 2590        \n",
       "6 S06685900003        07/19/2012 4126        \n",
       "  Store Name                          Address              City          \n",
       "1 CVS PHARMACY #8443 / CEDAR RAPIDS   3419 16TH AVE SW     CEDAR RAPIDS  \n",
       "2 SMOKIN' JOE'S #6 TOBACCO AND LIQUOR 1404  1ST AVE NE     CEDAR RAPIDS  \n",
       "3 HY-VEE FOOD STORE / MOUNT PLEASANT  1700 E WASHINGTON    MOUNT PLEASANT\n",
       "4 AFAL FOOD & LIQUOR / DES MOINES     4121 SE 14TH ST      DES MOINES    \n",
       "5 HY-VEE FOOD STORE #5 / CEDAR RAPIDS 3235 OAKLAND ROAD NE CEDAR RAPIDS  \n",
       "6 SAM'S MAINSTREET MARKET / SOLON     123 E MAIN ST        SOLON         \n",
       "  Zip Code Store Location                       County Number County  Category\n",
       "1 52404    POINT (-91.716615 41.963516)         57            LINN    1012100 \n",
       "2 52402    POINT (-91.6537 41.987286)           57            LINN    1031080 \n",
       "3 52641    POINT (-91.52888 40.962331000000006) 44            HENRY   1082900 \n",
       "4 50320    POINT (-93.596755 41.5464)           77            POLK    1051010 \n",
       "5 52402    POINT (-91.658105 42.010971)         57            LINN    1081600 \n",
       "6 52333    POINT (-91.494611 41.807199)         52            JOHNSON 1081390 \n",
       "  Category Name                      Vendor Number Vendor Name             \n",
       "1 CANADIAN WHISKIES                   55           SAZERAC NORTH AMERICA   \n",
       "2 VODKA 80 PROOF                     434           LUXCO-ST LOUIS          \n",
       "3 MISC. IMPORTED CORDIALS & LIQUEURS  85           BROWN-FORMAN CORPORATION\n",
       "4 AMERICAN GRAPE BRANDIES            205           E AND J GALLO WINERY    \n",
       "5 WHISKEY LIQUEUR                    259           HEAVEN HILL BRANDS      \n",
       "6 IMPORTED SCHNAPPS                  421           SAZERAC CO., INC.       \n",
       "  Item Number Item Description                   Pack Bottle Volume (ml)\n",
       "1 12408       CANADIAN LTD WHISKY                 6   1750              \n",
       "2 36306       HAWKEYE VODKA                      12    750              \n",
       "3 64676       CHAMBORD LIQUEUR ROYALE DE FRANCE  12    750              \n",
       "4 52594       E & J VS BRANDY                    24    375              \n",
       "5 86796       SOUTHERN HOST WHISKEY LIQUEUR      12    750              \n",
       "6 69637       DR. MCGILLICUDDY'S CHERRY SCHNAPPS 12   1000              \n",
       "  State Bottle Cost State Bottle Retail Bottles Sold Sale (Dollars)\n",
       "1  8.99             13.49                3            40.47        \n",
       "2  3.34              5.01               12            60.12        \n",
       "3 18.56             27.84                2            55.68        \n",
       "4  2.93              4.40                3            13.20        \n",
       "5  5.37              8.06                4            32.24        \n",
       "6 11.00             16.50               12           198.00        \n",
       "  Volume Sold (Liters) Volume Sold (Gallons)\n",
       "1  5.25                1.39                 \n",
       "2  9.00                2.38                 \n",
       "3  1.50                0.40                 \n",
       "4  1.12                0.30                 \n",
       "5  3.00                0.79                 \n",
       "6 12.00                3.17                 "
      ]
     },
     "metadata": {},
     "output_type": "display_data"
    },
    {
     "data": {
      "text/html": [
       "<style>\n",
       ".list-inline {list-style: none; margin:0; padding: 0}\n",
       ".list-inline>li {display: inline-block}\n",
       ".list-inline>li:not(:last-child)::after {content: \"\\00b7\"; padding: 0 .5ex}\n",
       "</style>\n",
       "<ol class=list-inline><li>27050143</li><li>5</li></ol>\n"
      ],
      "text/latex": [
       "\\begin{enumerate*}\n",
       "\\item 27050143\n",
       "\\item 5\n",
       "\\end{enumerate*}\n"
      ],
      "text/markdown": [
       "1. 27050143\n",
       "2. 5\n",
       "\n",
       "\n"
      ],
      "text/plain": [
       "[1] 27050143        5"
      ]
     },
     "metadata": {},
     "output_type": "display_data"
    }
   ],
   "source": [
    "library(data.table)\n",
    "options(repr.matrix.max.cols=50)\n",
    "myDF <- fread(\"/anvil/projects/tdm/data/iowa_liquor_sales/iowa_liquor_sales.csv\", nrows=1000)\n",
    "head(myDF)\n",
    "newDF<- fread(\"/anvil/projects/tdm/data/iowa_liquor_sales/iowa_liquor_sales.csv\", select = c(3,4,5,6,7))\n",
    "dim(newDF)"
   ]
  },
  {
   "cell_type": "markdown",
   "id": "b456e57c-4a12-464b-999a-ef2df5af80c1",
   "metadata": {},
   "source": [
    "I loaded the data.table library and set an option to display up to 50 columns in matrices. Then, I used fread to read the first 1,000 rows of the Iowa liquor sales dataset and displayed the initial rows with head. Next, I read the same file again but selected only specific columns (3, 4, 5, 6, and 7) and assigned this to newDF. Finally, I used dim to check the dimensions of newDF. The dimensions are: 27050143x5\n"
   ]
  },
  {
   "cell_type": "markdown",
   "id": "fc601975-35ed-4680-a4e1-0273ee3cc047",
   "metadata": {},
   "source": [
    "## Question 2"
   ]
  },
  {
   "cell_type": "code",
   "execution_count": 2,
   "id": "a16336a1-1ef0-41e8-bc7c-49387db27497",
   "metadata": {},
   "outputs": [
    {
     "name": "stdout",
     "output_type": "stream",
     "text": [
      "\n",
      "  2633   4829   2190   2512   2572   2603   2515   2614   2647   2648 \n",
      "223447 190702 173109 147581 142536 140319 133959 132915 132269 128608 \n",
      "\n",
      "        HY-VEE #3 / BDI / DES MOINES                       CENTRAL CITY 2 \n",
      "                              223447                               190653 \n",
      "           CENTRAL CITY LIQUOR, INC.      HY-VEE FOOD STORE / CEDAR FALLS \n",
      "                              173158                               142536 \n",
      " HY-VEE WINE AND SPIRITS / IOWA CITY HY-VEE WINE AND SPIRITS / BETTENDORF \n",
      "                              141557                               140319 \n",
      "            HY-VEE #7 / CEDAR RAPIDS                      HY-VEE #4 / WDM \n",
      "                              131294                               128608 \n",
      "   HY-VEE FOOD STORE #1 / MASON CITY                    BENZ DISTRIBUTING \n",
      "                              127264                               120357 \n",
      "\n",
      "      3221 SE 14TH ST, DES MOINES, 50320 \n",
      "                                  223447 \n",
      "    1501 MICHIGAN AVE, DES MOINES, 50314 \n",
      "                                  190702 \n",
      "         1460 2ND AVE, DES MOINES, 50314 \n",
      "                                  173109 \n",
      "    1720 WATERFRONT DR, IOWA CITY, 52240 \n",
      "                                  147581 \n",
      "     6301 UNIVERSITY, CEDAR FALLS, 50613 \n",
      "                                  142536 \n",
      "2890 DEVILS GLEN ROAD, BETTENDORF, 52722 \n",
      "                                  140319 \n",
      "       2400 4TH ST SW, MASON CITY, 50401 \n",
      "                                  133959 \n",
      "    1823 E KIMBERLY RD, DAVENPORT, 52807 \n",
      "                                  132915 \n",
      "   5050 EDGEWOOD RD, CEDAR RAPIDS, 52411 \n",
      "                                  132269 \n",
      "   555 S 51ST ST, WEST DES MOINES, 50265 \n",
      "                                  128608 \n"
     ]
    }
   ],
   "source": [
    "topTenStoreNumber <- sort(table(newDF$'Store Number'), decreasing = TRUE)[1:10]\n",
    "print(topTenStoreNumber)\n",
    "\n",
    "topTenStoreName <- sort(table(newDF$'Store Name'), decreasing = TRUE)[1:10]\n",
    "print(topTenStoreName)\n",
    "\n",
    "topTenLocations <- sort(table(paste(newDF$Address, newDF$City, newDF$'Zip Code', sep=\", \")), decreasing = TRUE)[1:10]\n",
    "print(topTenLocations)\n"
   ]
  },
  {
   "cell_type": "markdown",
   "id": "14dc22d4-ddc3-41cc-a91a-cb0025bc0c80",
   "metadata": {},
   "source": [
    "I created a frequency table of the \"Store Number\" column in newDF and sorted it in descending order to find the top 10 most frequent store numbers, then printed the result. Next, I did the same for the \"Store Name\" column to identify the top 10 most frequent store names and printed that. Finally, I combined the \"Address,\" \"City,\" and \"Zip Code\" columns into a single string for each record, created a frequency table, sorted it in descending order, and printed the top 10 most common locations. \n",
    "a and b dont agree but a and c do. "
   ]
  },
  {
   "cell_type": "markdown",
   "id": "8e586edd-ff26-4ce2-8f6b-2424b26f2929",
   "metadata": {},
   "source": [
    "## Question 3"
   ]
  },
  {
   "cell_type": "code",
   "execution_count": 3,
   "id": "bbe0f40d-9655-4653-9ca8-886bdb61cb91",
   "metadata": {},
   "outputs": [
    {
     "data": {
      "text/html": [
       "<style>\n",
       ".list-inline {list-style: none; margin:0; padding: 0}\n",
       ".list-inline>li {display: inline-block}\n",
       ".list-inline>li:not(:last-child)::after {content: \"\\00b7\"; padding: 0 .5ex}\n",
       "</style>\n",
       "<ol class=list-inline><li>27050143</li><li>3</li></ol>\n"
      ],
      "text/latex": [
       "\\begin{enumerate*}\n",
       "\\item 27050143\n",
       "\\item 3\n",
       "\\end{enumerate*}\n"
      ],
      "text/markdown": [
       "1. 27050143\n",
       "2. 3\n",
       "\n",
       "\n"
      ],
      "text/plain": [
       "[1] 27050143        3"
      ]
     },
     "metadata": {},
     "output_type": "display_data"
    },
    {
     "name": "stdout",
     "output_type": "stream",
     "text": [
      "    50314     50320     52402     52240     50010     50266     52807     51501 \n",
      "146282225 132861227 108460935 106827909  96964163  95956449  85331020  84485599 \n",
      "    52241     50613 \n",
      " 80224356  70716357 \n",
      "        CANADIAN WHISKIES           AMERICAN VODKAS STRAIGHT BOURBON WHISKIES \n",
      "                457612891                 380307151                 257794862 \n",
      "               SPICED RUM           WHISKEY LIQUEUR           IMPORTED VODKAS \n",
      "                254362805                 199736755                 183082359 \n",
      "       TENNESSEE WHISKIES            VODKA 80 PROOF        100% AGAVE TEQUILA \n",
      "                162676709                 145764889                 124223944 \n",
      "         BLENDED WHISKIES \n",
      "                109152591 \n"
     ]
    }
   ],
   "source": [
    "library(data.table)\n",
    "newDF2<- fread(\"/anvil/projects/tdm/data/iowa_liquor_sales/iowa_liquor_sales.csv\", select = c(7,12,22))\n",
    "dim(newDF2)\n",
    "\n",
    "sumOfZip <- tapply(newDF2$'Sale (Dollars)', newDF2$'Zip Code', sum, na.rm=TRUE)\n",
    "sumOfZipSorted <- sort(sumOfZip, decreasing = TRUE)[1:10]\n",
    "print(sumOfZipSorted)\n",
    "\n",
    "sumOfCategory <- tapply(newDF2$'Sale (Dollars)', newDF2$'Category Name', sum, na.rm=TRUE)\n",
    "sumOfCategorySorted <- sort(sumOfCategory, decreasing = TRUE)[1:10]\n",
    "print(sumOfCategorySorted)"
   ]
  },
  {
   "cell_type": "markdown",
   "id": "985ca588-36ec-4f54-ba48-5932c7e01ddd",
   "metadata": {},
   "source": [
    "I loaded the data.table library and used fread to read the Iowa liquor sales dataset, selecting only the columns \"Zip Code,\" \"Sale (Dollars),\" and \"Category Name,\" and saved this as newDF2. I checked the dimensions of newDF2 with dim. Then, I calculated the total sales for each zip code using tapply and sorted the results in descending order to get the top 10 zip codes with the highest sales, which I printed. Similarly, I calculated the total sales for each category name, sorted these totals in descending order, and printed the top 10 categories with the highest sales."
   ]
  },
  {
   "cell_type": "markdown",
   "id": "da22f29c-d245-4d2b-9fc1-ca14cb6087d9",
   "metadata": {},
   "source": [
    "## Question 4"
   ]
  },
  {
   "cell_type": "code",
   "execution_count": 1,
   "id": "8cffc767-d1c8-4d64-b7dc-f0d2ee8a80d1",
   "metadata": {},
   "outputs": [
    {
     "name": "stderr",
     "output_type": "stream",
     "text": [
      "Warning message in fread(\"/anvil/projects/tdm/data/election/itcont2020.txt\", select = c(10, :\n",
      "\"Found and resolved improper quoting out-of-sample. First healed line 543881: <<C00401224|A|M10||202012149381299609|24T|IND|YOUNG, BRUCE|SARANAC LAKE|NY|12983|\"SELF\" (EMPLOYER WISHES TO REMAIN ANON|IND. CONTRACTOR / CARETAKER|09292020|27|C00649061|SA11AI_310755484|1482832||EARMARKED FOR COMMITTEE TO ELECT TEDRA COBB (C00649061)|4012120212130550457>>. If the fields are not quoted (e.g. field separator does not appear within any field), try quote=\"\" to avoid this warning.\"\n"
     ]
    },
    {
     "name": "stdout",
     "output_type": "stream",
     "text": [
      "        CA         NY         VA         DC         TX         FL         IL \n",
      "2803518256 2521628477 1122819081 1060820708 1005943807  913762179  610913249 \n",
      "        MA         NV         WA \n",
      " 521866708  384867853  384169499 \n"
     ]
    }
   ],
   "source": [
    "library(data.table)\n",
    "newDF3<- fread(\"/anvil/projects/tdm/data/election/itcont2020.txt\", select = c(10,15),  col.names = c(\"State\", \"Amount\"))\n",
    "topTenDonationStates <- tapply(newDF3$Amount, newDF3$State, sum, na.rm=TRUE)\n",
    "topTenDonationStatesSorted <- sort(topTenDonationStates, decreasing = TRUE)[1:10]\n",
    "print(topTenDonationStatesSorted)\n"
   ]
  },
  {
   "cell_type": "markdown",
   "id": "0d552245-b4d6-474a-9cc9-fa7b8e674d55",
   "metadata": {},
   "source": [
    "I loaded the data.table library and used fread to read the election contributions data from the file itcont2020.txt, selecting only the columns for \"State\" and \"Amount\" and renaming them accordingly. I then used tapply to calculate the total donation amount for each state, handling any missing values by setting na.rm=TRUE. Next, I sorted these totals in descending order and printed the top 10 states with the highest donation amounts."
   ]
  },
  {
   "cell_type": "markdown",
   "id": "88c9cdac-3e92-498f-83fa-e089bfc44ac8",
   "metadata": {},
   "source": [
    "## Question 5"
   ]
  },
  {
   "cell_type": "code",
   "execution_count": 6,
   "id": "d370d7c9-06db-42b9-b75f-240481a5c491",
   "metadata": {},
   "outputs": [
    {
     "name": "stdout",
     "output_type": "stream",
     "text": [
      " [1] \"Documentary,Short\"        \"Animation,Short\"         \n",
      " [3] \"Animation,Comedy,Romance\" \"Animation,Short\"         \n",
      " [5] \"Comedy,Short\"             \"Short\"                   \n",
      " [7] \"Short,Sport\"              \"Documentary,Short\"       \n",
      " [9] \"Romance\"                  \"Documentary,Short\"       \n"
     ]
    },
    {
     "data": {
      "text/html": [
       "<ol>\n",
       "\t<li><style>\n",
       ".list-inline {list-style: none; margin:0; padding: 0}\n",
       ".list-inline>li {display: inline-block}\n",
       ".list-inline>li:not(:last-child)::after {content: \"\\00b7\"; padding: 0 .5ex}\n",
       "</style>\n",
       "<ol class=list-inline><li>'Documentary'</li><li>'Short'</li></ol>\n",
       "</li>\n",
       "\t<li><style>\n",
       ".list-inline {list-style: none; margin:0; padding: 0}\n",
       ".list-inline>li {display: inline-block}\n",
       ".list-inline>li:not(:last-child)::after {content: \"\\00b7\"; padding: 0 .5ex}\n",
       "</style>\n",
       "<ol class=list-inline><li>'Animation'</li><li>'Short'</li></ol>\n",
       "</li>\n",
       "\t<li><style>\n",
       ".list-inline {list-style: none; margin:0; padding: 0}\n",
       ".list-inline>li {display: inline-block}\n",
       ".list-inline>li:not(:last-child)::after {content: \"\\00b7\"; padding: 0 .5ex}\n",
       "</style>\n",
       "<ol class=list-inline><li>'Animation'</li><li>'Comedy'</li><li>'Romance'</li></ol>\n",
       "</li>\n",
       "\t<li><style>\n",
       ".list-inline {list-style: none; margin:0; padding: 0}\n",
       ".list-inline>li {display: inline-block}\n",
       ".list-inline>li:not(:last-child)::after {content: \"\\00b7\"; padding: 0 .5ex}\n",
       "</style>\n",
       "<ol class=list-inline><li>'Animation'</li><li>'Short'</li></ol>\n",
       "</li>\n",
       "\t<li><style>\n",
       ".list-inline {list-style: none; margin:0; padding: 0}\n",
       ".list-inline>li {display: inline-block}\n",
       ".list-inline>li:not(:last-child)::after {content: \"\\00b7\"; padding: 0 .5ex}\n",
       "</style>\n",
       "<ol class=list-inline><li>'Comedy'</li><li>'Short'</li></ol>\n",
       "</li>\n",
       "\t<li>'Short'</li>\n",
       "\t<li><style>\n",
       ".list-inline {list-style: none; margin:0; padding: 0}\n",
       ".list-inline>li {display: inline-block}\n",
       ".list-inline>li:not(:last-child)::after {content: \"\\00b7\"; padding: 0 .5ex}\n",
       "</style>\n",
       "<ol class=list-inline><li>'Short'</li><li>'Sport'</li></ol>\n",
       "</li>\n",
       "\t<li><style>\n",
       ".list-inline {list-style: none; margin:0; padding: 0}\n",
       ".list-inline>li {display: inline-block}\n",
       ".list-inline>li:not(:last-child)::after {content: \"\\00b7\"; padding: 0 .5ex}\n",
       "</style>\n",
       "<ol class=list-inline><li>'Documentary'</li><li>'Short'</li></ol>\n",
       "</li>\n",
       "\t<li>'Romance'</li>\n",
       "\t<li><style>\n",
       ".list-inline {list-style: none; margin:0; padding: 0}\n",
       ".list-inline>li {display: inline-block}\n",
       ".list-inline>li:not(:last-child)::after {content: \"\\00b7\"; padding: 0 .5ex}\n",
       "</style>\n",
       "<ol class=list-inline><li>'Documentary'</li><li>'Short'</li></ol>\n",
       "</li>\n",
       "</ol>\n"
      ],
      "text/latex": [
       "\\begin{enumerate}\n",
       "\\item \\begin{enumerate*}\n",
       "\\item 'Documentary'\n",
       "\\item 'Short'\n",
       "\\end{enumerate*}\n",
       "\n",
       "\\item \\begin{enumerate*}\n",
       "\\item 'Animation'\n",
       "\\item 'Short'\n",
       "\\end{enumerate*}\n",
       "\n",
       "\\item \\begin{enumerate*}\n",
       "\\item 'Animation'\n",
       "\\item 'Comedy'\n",
       "\\item 'Romance'\n",
       "\\end{enumerate*}\n",
       "\n",
       "\\item \\begin{enumerate*}\n",
       "\\item 'Animation'\n",
       "\\item 'Short'\n",
       "\\end{enumerate*}\n",
       "\n",
       "\\item \\begin{enumerate*}\n",
       "\\item 'Comedy'\n",
       "\\item 'Short'\n",
       "\\end{enumerate*}\n",
       "\n",
       "\\item 'Short'\n",
       "\\item \\begin{enumerate*}\n",
       "\\item 'Short'\n",
       "\\item 'Sport'\n",
       "\\end{enumerate*}\n",
       "\n",
       "\\item \\begin{enumerate*}\n",
       "\\item 'Documentary'\n",
       "\\item 'Short'\n",
       "\\end{enumerate*}\n",
       "\n",
       "\\item 'Romance'\n",
       "\\item \\begin{enumerate*}\n",
       "\\item 'Documentary'\n",
       "\\item 'Short'\n",
       "\\end{enumerate*}\n",
       "\n",
       "\\end{enumerate}\n"
      ],
      "text/markdown": [
       "1. 1. 'Documentary'\n",
       "2. 'Short'\n",
       "\n",
       "\n",
       "\n",
       "2. 1. 'Animation'\n",
       "2. 'Short'\n",
       "\n",
       "\n",
       "\n",
       "3. 1. 'Animation'\n",
       "2. 'Comedy'\n",
       "3. 'Romance'\n",
       "\n",
       "\n",
       "\n",
       "4. 1. 'Animation'\n",
       "2. 'Short'\n",
       "\n",
       "\n",
       "\n",
       "5. 1. 'Comedy'\n",
       "2. 'Short'\n",
       "\n",
       "\n",
       "\n",
       "6. 'Short'\n",
       "7. 1. 'Short'\n",
       "2. 'Sport'\n",
       "\n",
       "\n",
       "\n",
       "8. 1. 'Documentary'\n",
       "2. 'Short'\n",
       "\n",
       "\n",
       "\n",
       "9. 'Romance'\n",
       "10. 1. 'Documentary'\n",
       "2. 'Short'\n",
       "\n",
       "\n",
       "\n",
       "\n",
       "\n"
      ],
      "text/plain": [
       "[[1]]\n",
       "[1] \"Documentary\" \"Short\"      \n",
       "\n",
       "[[2]]\n",
       "[1] \"Animation\" \"Short\"    \n",
       "\n",
       "[[3]]\n",
       "[1] \"Animation\" \"Comedy\"    \"Romance\"  \n",
       "\n",
       "[[4]]\n",
       "[1] \"Animation\" \"Short\"    \n",
       "\n",
       "[[5]]\n",
       "[1] \"Comedy\" \"Short\" \n",
       "\n",
       "[[6]]\n",
       "[1] \"Short\"\n",
       "\n",
       "[[7]]\n",
       "[1] \"Short\" \"Sport\"\n",
       "\n",
       "[[8]]\n",
       "[1] \"Documentary\" \"Short\"      \n",
       "\n",
       "[[9]]\n",
       "[1] \"Romance\"\n",
       "\n",
       "[[10]]\n",
       "[1] \"Documentary\" \"Short\"      \n"
      ]
     },
     "metadata": {},
     "output_type": "display_data"
    },
    {
     "data": {
      "text/html": [
       "<style>\n",
       ".list-inline {list-style: none; margin:0; padding: 0}\n",
       ".list-inline>li {display: inline-block}\n",
       ".list-inline>li:not(:last-child)::after {content: \"\\00b7\"; padding: 0 .5ex}\n",
       "</style>\n",
       "<ol class=list-inline><li>'Documentary'</li><li>'Short'</li><li>'Animation'</li><li>'Short'</li><li>'Animation'</li><li>'Comedy'</li><li>'Romance'</li><li>'Animation'</li><li>'Short'</li><li>'Comedy'</li><li>'Short'</li><li>'Short'</li><li>'Short'</li><li>'Sport'</li><li>'Documentary'</li><li>'Short'</li><li>'Romance'</li><li>'Documentary'</li><li>'Short'</li></ol>\n"
      ],
      "text/latex": [
       "\\begin{enumerate*}\n",
       "\\item 'Documentary'\n",
       "\\item 'Short'\n",
       "\\item 'Animation'\n",
       "\\item 'Short'\n",
       "\\item 'Animation'\n",
       "\\item 'Comedy'\n",
       "\\item 'Romance'\n",
       "\\item 'Animation'\n",
       "\\item 'Short'\n",
       "\\item 'Comedy'\n",
       "\\item 'Short'\n",
       "\\item 'Short'\n",
       "\\item 'Short'\n",
       "\\item 'Sport'\n",
       "\\item 'Documentary'\n",
       "\\item 'Short'\n",
       "\\item 'Romance'\n",
       "\\item 'Documentary'\n",
       "\\item 'Short'\n",
       "\\end{enumerate*}\n"
      ],
      "text/markdown": [
       "1. 'Documentary'\n",
       "2. 'Short'\n",
       "3. 'Animation'\n",
       "4. 'Short'\n",
       "5. 'Animation'\n",
       "6. 'Comedy'\n",
       "7. 'Romance'\n",
       "8. 'Animation'\n",
       "9. 'Short'\n",
       "10. 'Comedy'\n",
       "11. 'Short'\n",
       "12. 'Short'\n",
       "13. 'Short'\n",
       "14. 'Sport'\n",
       "15. 'Documentary'\n",
       "16. 'Short'\n",
       "17. 'Romance'\n",
       "18. 'Documentary'\n",
       "19. 'Short'\n",
       "\n",
       "\n"
      ],
      "text/plain": [
       " [1] \"Documentary\" \"Short\"       \"Animation\"   \"Short\"       \"Animation\"  \n",
       " [6] \"Comedy\"      \"Romance\"     \"Animation\"   \"Short\"       \"Comedy\"     \n",
       "[11] \"Short\"       \"Short\"       \"Short\"       \"Sport\"       \"Documentary\"\n",
       "[16] \"Short\"       \"Romance\"     \"Documentary\" \"Short\"      "
      ]
     },
     "metadata": {},
     "output_type": "display_data"
    },
    {
     "data": {
      "text/plain": [
       "\n",
       "  Animation      Comedy Documentary     Romance       Short       Sport \n",
       "          3           2           3           2           8           1 "
      ]
     },
     "metadata": {},
     "output_type": "display_data"
    }
   ],
   "source": [
    "myDF4 <- fread(\"/anvil/projects/tdm/data/movies_and_tv/imdb2024/basics.tsv\", nrows = 10)\n",
    "#head(myDF4)\n",
    "\n",
    "print(myDF4$genres)\n",
    "\n",
    "strsplit(myDF4$genres, ',')\n",
    "\n",
    "unlist(strsplit(myDF4$genres, ','))\n",
    "\n",
    "table(unlist(strsplit(myDF4$genres, ',')))"
   ]
  },
  {
   "cell_type": "markdown",
   "id": "9fbf00fb-2418-460f-ae94-2a32b0c28952",
   "metadata": {},
   "source": [
    "I did the tests as stated in the examples book. I read the IMDB data file basics.tsv using fread, limiting the rows to the first 10 for a quick preview. After loading the data, I printed the genres column to display the genres associated with each movie or TV show. I then used strsplit to split the genres strings by commas, breaking down multiple genres into individual components. Using unlist, I flattened the list of split genres into a single vector. Finally, I created a frequency table of the genres using table to show how often each genre appears."
   ]
  },
  {
   "cell_type": "code",
   "execution_count": 1,
   "id": "cbd519a8-c13b-48bc-83a4-b46e35c0e972",
   "metadata": {},
   "outputs": [
    {
     "name": "stderr",
     "output_type": "stream",
     "text": [
      "Warning message in fread(\"/anvil/projects/tdm/data/movies_and_tv/imdb2024/basics.tsv\"):\n",
      "\"Found and resolved improper quoting out-of-sample. First healed line 242860: <<tt0253684\ttvEpisode\t\"Rome br<c3><bb>le\" (Portrait de Shirley Clarke)\t\"Rome br<c3><bb>le\" (Portrait de Shirley Clarke)\t0\t1970\t\t54\tDocumentary>>. If the fields are not quoted (e.g. field separator does not appear within any field), try quote=\"\" to avoid this warning.\"\n"
     ]
    },
    {
     "data": {
      "text/plain": [
       "\n",
       "     Action       Adult   Adventure   Animation   Biography      Comedy \n",
       "     462531      353525      425130      556566      119759     2181847 \n",
       "      Crime Documentary       Drama      Family     Fantasy   Film-Noir \n",
       "     459412     1062294     3151064      824607      234269         873 \n",
       "  Game-Show     History      Horror       Music     Musical     Mystery \n",
       "     424919      165528      202434      418888       92140      225390 \n",
       "       News  Reality-TV     Romance      Sci-Fi       Short       Sport \n",
       "    1051399      624854     1045327      117541     1191319      271872 \n",
       "  Talk-Show    Thriller         War     Western \n",
       "    1372500      184618       38662       30931 "
      ]
     },
     "metadata": {},
     "output_type": "display_data"
    }
   ],
   "source": [
    "library(data.table)\n",
    "fullDF <- fread(\"/anvil/projects/tdm/data/movies_and_tv/imdb2024/basics.tsv\")\n",
    "table(unlist(strsplit(fullDF$genres, ',')))"
   ]
  },
  {
   "cell_type": "markdown",
   "id": "d1eff2e3-d991-42d9-b3ae-d012ed7f4dc0",
   "metadata": {},
   "source": [
    "I loaded the complete IMDB data file basics.tsv using fread to work with the entire dataset. I then used strsplit to split the genres column by commas, breaking down the multiple genres associated with each movie or TV show. The unlist function was used to flatten the list of split genres into a single vector. Finally, I created a frequency table with table to count how often each genre appears in the full dataset."
   ]
  },
  {
   "cell_type": "markdown",
   "id": "f76442d6-d02e-4f26-b9d6-c3183e1d6929",
   "metadata": {},
   "source": [
    "## Pledge\n",
    "\n",
    "By submitting this work I hereby pledge that this is my own, personal work. I've acknowledged in the designated place at the top of this file all sources that I used to complete said work, including but not limited to: online resources, books, and electronic communications. I've noted all collaboration with fellow students and/or TA's. I did not copy or plagiarize another's work.\n",
    "\n",
    "> As a Boilermaker pursuing academic excellence, I pledge to be honest and true in all that I do. Accountable together – We are Purdue."
   ]
  }
 ],
 "metadata": {
  "kernelspec": {
   "display_name": "seminar-r",
   "language": "R",
   "name": "seminar-r"
  },
  "language_info": {
   "codemirror_mode": "r",
   "file_extension": ".r",
   "mimetype": "text/x-r-source",
   "name": "R",
   "pygments_lexer": "r",
   "version": "4.4.1"
  }
 },
 "nbformat": 4,
 "nbformat_minor": 5
}
