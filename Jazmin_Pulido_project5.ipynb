{
 "cells": [
  {
   "cell_type": "markdown",
   "id": "be02a957-7133-4d02-818e-fedeb3cecb05",
   "metadata": {},
   "source": [
    "# Project 5 -- Jazmin Pulido"
   ]
  },
  {
   "cell_type": "markdown",
   "id": "a1228853-dd19-4ab2-89e0-0394d7d72de3",
   "metadata": {},
   "source": [
    "**TA Help:** N/A\n",
    "\n",
    "- Helped with...\n",
    "    \n",
    "**Collaboration:** N/A\n",
    "    \n",
    "- Helped with..."
   ]
  },
  {
   "cell_type": "markdown",
   "id": "6180e742-8e39-4698-98ff-5b00c8cf8ea0",
   "metadata": {},
   "source": [
    "## Question 1"
   ]
  },
  {
   "cell_type": "code",
   "execution_count": 21,
   "id": "49445606-d363-41b4-b479-e319a9a84c01",
   "metadata": {},
   "outputs": [
    {
     "data": {
      "text/plain": [
       "\n",
       "      F       M    <NA> \n",
       "1299710 1331461       0 "
      ]
     },
     "metadata": {},
     "output_type": "display_data"
    },
    {
     "data": {
      "text/html": [
       "<table class=\"dataframe\">\n",
       "<caption>A data.table: 6 x 38</caption>\n",
       "<thead>\n",
       "\t<tr><th scope=col>Id</th><th scope=col>ResidentStatus</th><th scope=col>Education1989Revision</th><th scope=col>Education2003Revision</th><th scope=col>EducationReportingFlag</th><th scope=col>MonthOfDeath</th><th scope=col>Sex</th><th scope=col>AgeType</th><th scope=col>Age</th><th scope=col>AgeSubstitutionFlag</th><th scope=col>...</th><th scope=col>CauseRecode39</th><th scope=col>NumberOfEntityAxisConditions</th><th scope=col>NumberOfRecordAxisConditions</th><th scope=col>Race</th><th scope=col>BridgedRaceFlag</th><th scope=col>RaceImputationFlag</th><th scope=col>RaceRecode3</th><th scope=col>RaceRecode5</th><th scope=col>HispanicOrigin</th><th scope=col>HispanicOriginRaceRecode</th></tr>\n",
       "\t<tr><th scope=col>&lt;int&gt;</th><th scope=col>&lt;int&gt;</th><th scope=col>&lt;int&gt;</th><th scope=col>&lt;int&gt;</th><th scope=col>&lt;int&gt;</th><th scope=col>&lt;int&gt;</th><th scope=col>&lt;chr&gt;</th><th scope=col>&lt;int&gt;</th><th scope=col>&lt;int&gt;</th><th scope=col>&lt;int&gt;</th><th scope=col>...</th><th scope=col>&lt;int&gt;</th><th scope=col>&lt;int&gt;</th><th scope=col>&lt;int&gt;</th><th scope=col>&lt;int&gt;</th><th scope=col>&lt;int&gt;</th><th scope=col>&lt;int&gt;</th><th scope=col>&lt;int&gt;</th><th scope=col>&lt;int&gt;</th><th scope=col>&lt;int&gt;</th><th scope=col>&lt;int&gt;</th></tr>\n",
       "</thead>\n",
       "<tbody>\n",
       "\t<tr><td> 3</td><td>1</td><td>0</td><td>7</td><td>1</td><td>1</td><td>F</td><td>1</td><td>75</td><td>0</td><td>...</td><td>28</td><td>2</td><td>2</td><td>1</td><td>0</td><td>0</td><td>1</td><td>1</td><td>100</td><td>6</td></tr>\n",
       "\t<tr><td> 6</td><td>1</td><td>0</td><td>5</td><td>1</td><td>1</td><td>F</td><td>1</td><td>93</td><td>0</td><td>...</td><td>37</td><td>5</td><td>5</td><td>1</td><td>0</td><td>0</td><td>1</td><td>1</td><td>100</td><td>6</td></tr>\n",
       "\t<tr><td> 9</td><td>1</td><td>0</td><td>3</td><td>1</td><td>1</td><td>F</td><td>1</td><td>86</td><td>0</td><td>...</td><td>37</td><td>1</td><td>1</td><td>1</td><td>0</td><td>0</td><td>1</td><td>1</td><td>100</td><td>6</td></tr>\n",
       "\t<tr><td>11</td><td>1</td><td>0</td><td>3</td><td>1</td><td>1</td><td>F</td><td>1</td><td>79</td><td>0</td><td>...</td><td>22</td><td>2</td><td>2</td><td>1</td><td>0</td><td>0</td><td>1</td><td>1</td><td>100</td><td>6</td></tr>\n",
       "\t<tr><td>13</td><td>1</td><td>0</td><td>4</td><td>1</td><td>1</td><td>F</td><td>1</td><td>85</td><td>0</td><td>...</td><td>22</td><td>5</td><td>5</td><td>1</td><td>0</td><td>0</td><td>1</td><td>1</td><td>100</td><td>6</td></tr>\n",
       "\t<tr><td>14</td><td>1</td><td>0</td><td>3</td><td>1</td><td>1</td><td>F</td><td>1</td><td>84</td><td>0</td><td>...</td><td> 8</td><td>2</td><td>2</td><td>1</td><td>0</td><td>0</td><td>1</td><td>1</td><td>100</td><td>6</td></tr>\n",
       "</tbody>\n",
       "</table>\n"
      ],
      "text/latex": [
       "A data.table: 6 x 38\n",
       "\\begin{tabular}{lllllllllllllllllllll}\n",
       " Id & ResidentStatus & Education1989Revision & Education2003Revision & EducationReportingFlag & MonthOfDeath & Sex & AgeType & Age & AgeSubstitutionFlag & ... & CauseRecode39 & NumberOfEntityAxisConditions & NumberOfRecordAxisConditions & Race & BridgedRaceFlag & RaceImputationFlag & RaceRecode3 & RaceRecode5 & HispanicOrigin & HispanicOriginRaceRecode\\\\\n",
       " <int> & <int> & <int> & <int> & <int> & <int> & <chr> & <int> & <int> & <int> & ... & <int> & <int> & <int> & <int> & <int> & <int> & <int> & <int> & <int> & <int>\\\\\n",
       "\\hline\n",
       "\t  3 & 1 & 0 & 7 & 1 & 1 & F & 1 & 75 & 0 & ... & 28 & 2 & 2 & 1 & 0 & 0 & 1 & 1 & 100 & 6\\\\\n",
       "\t  6 & 1 & 0 & 5 & 1 & 1 & F & 1 & 93 & 0 & ... & 37 & 5 & 5 & 1 & 0 & 0 & 1 & 1 & 100 & 6\\\\\n",
       "\t  9 & 1 & 0 & 3 & 1 & 1 & F & 1 & 86 & 0 & ... & 37 & 1 & 1 & 1 & 0 & 0 & 1 & 1 & 100 & 6\\\\\n",
       "\t 11 & 1 & 0 & 3 & 1 & 1 & F & 1 & 79 & 0 & ... & 22 & 2 & 2 & 1 & 0 & 0 & 1 & 1 & 100 & 6\\\\\n",
       "\t 13 & 1 & 0 & 4 & 1 & 1 & F & 1 & 85 & 0 & ... & 22 & 5 & 5 & 1 & 0 & 0 & 1 & 1 & 100 & 6\\\\\n",
       "\t 14 & 1 & 0 & 3 & 1 & 1 & F & 1 & 84 & 0 & ... &  8 & 2 & 2 & 1 & 0 & 0 & 1 & 1 & 100 & 6\\\\\n",
       "\\end{tabular}\n"
      ],
      "text/markdown": [
       "\n",
       "A data.table: 6 x 38\n",
       "\n",
       "| Id &lt;int&gt; | ResidentStatus &lt;int&gt; | Education1989Revision &lt;int&gt; | Education2003Revision &lt;int&gt; | EducationReportingFlag &lt;int&gt; | MonthOfDeath &lt;int&gt; | Sex &lt;chr&gt; | AgeType &lt;int&gt; | Age &lt;int&gt; | AgeSubstitutionFlag &lt;int&gt; | ... ... | CauseRecode39 &lt;int&gt; | NumberOfEntityAxisConditions &lt;int&gt; | NumberOfRecordAxisConditions &lt;int&gt; | Race &lt;int&gt; | BridgedRaceFlag &lt;int&gt; | RaceImputationFlag &lt;int&gt; | RaceRecode3 &lt;int&gt; | RaceRecode5 &lt;int&gt; | HispanicOrigin &lt;int&gt; | HispanicOriginRaceRecode &lt;int&gt; |\n",
       "|---|---|---|---|---|---|---|---|---|---|---|---|---|---|---|---|---|---|---|---|---|\n",
       "|  3 | 1 | 0 | 7 | 1 | 1 | F | 1 | 75 | 0 | ... | 28 | 2 | 2 | 1 | 0 | 0 | 1 | 1 | 100 | 6 |\n",
       "|  6 | 1 | 0 | 5 | 1 | 1 | F | 1 | 93 | 0 | ... | 37 | 5 | 5 | 1 | 0 | 0 | 1 | 1 | 100 | 6 |\n",
       "|  9 | 1 | 0 | 3 | 1 | 1 | F | 1 | 86 | 0 | ... | 37 | 1 | 1 | 1 | 0 | 0 | 1 | 1 | 100 | 6 |\n",
       "| 11 | 1 | 0 | 3 | 1 | 1 | F | 1 | 79 | 0 | ... | 22 | 2 | 2 | 1 | 0 | 0 | 1 | 1 | 100 | 6 |\n",
       "| 13 | 1 | 0 | 4 | 1 | 1 | F | 1 | 85 | 0 | ... | 22 | 5 | 5 | 1 | 0 | 0 | 1 | 1 | 100 | 6 |\n",
       "| 14 | 1 | 0 | 3 | 1 | 1 | F | 1 | 84 | 0 | ... |  8 | 2 | 2 | 1 | 0 | 0 | 1 | 1 | 100 | 6 |\n",
       "\n"
      ],
      "text/plain": [
       "  Id ResidentStatus Education1989Revision Education2003Revision\n",
       "1  3 1              0                     7                    \n",
       "2  6 1              0                     5                    \n",
       "3  9 1              0                     3                    \n",
       "4 11 1              0                     3                    \n",
       "5 13 1              0                     4                    \n",
       "6 14 1              0                     3                    \n",
       "  EducationReportingFlag MonthOfDeath Sex AgeType Age AgeSubstitutionFlag ...\n",
       "1 1                      1            F   1       75  0                   ...\n",
       "2 1                      1            F   1       93  0                   ...\n",
       "3 1                      1            F   1       86  0                   ...\n",
       "4 1                      1            F   1       79  0                   ...\n",
       "5 1                      1            F   1       85  0                   ...\n",
       "6 1                      1            F   1       84  0                   ...\n",
       "  CauseRecode39 NumberOfEntityAxisConditions NumberOfRecordAxisConditions Race\n",
       "1 28            2                            2                            1   \n",
       "2 37            5                            5                            1   \n",
       "3 37            1                            1                            1   \n",
       "4 22            2                            2                            1   \n",
       "5 22            5                            5                            1   \n",
       "6  8            2                            2                            1   \n",
       "  BridgedRaceFlag RaceImputationFlag RaceRecode3 RaceRecode5 HispanicOrigin\n",
       "1 0               0                  1           1           100           \n",
       "2 0               0                  1           1           100           \n",
       "3 0               0                  1           1           100           \n",
       "4 0               0                  1           1           100           \n",
       "5 0               0                  1           1           100           \n",
       "6 0               0                  1           1           100           \n",
       "  HispanicOriginRaceRecode\n",
       "1 6                       \n",
       "2 6                       \n",
       "3 6                       \n",
       "4 6                       \n",
       "5 6                       \n",
       "6 6                       "
      ]
     },
     "metadata": {},
     "output_type": "display_data"
    }
   ],
   "source": [
    "#Build a subset of the data for which Sex=='F' and check the head of the subset to make sure that you only have 'F' values in the Sex column of your subset.\n",
    "library(data.table)\n",
    "myDF <- fread(\"/anvil/projects/tdm/data/death_records/DeathRecords.csv\")\n",
    "table(myDF$Sex, useNA=\"always\")\n",
    "femaleDF <- subset(myDF, Sex=='F')\n",
    "head(femaleDF)"
   ]
  },
  {
   "cell_type": "markdown",
   "id": "b456e57c-4a12-464b-999a-ef2df5af80c1",
   "metadata": {},
   "source": [
    "**Here I read DeathRecords.csv then built a subset of the data called femaleDF for which all the sex values are female. I did this after first checking if there were any NA values to take care of. I then checked the head of the subset to make sure that there are only 'F' in the sex column.**"
   ]
  },
  {
   "cell_type": "code",
   "execution_count": 28,
   "id": "0ce8cf8a-04ba-4148-8414-5e0cd188de28",
   "metadata": {},
   "outputs": [
    {
     "data": {
      "image/png": "[encoded data removed]",
      "text/plain": [
       "plot without title"
      ]
     },
     "metadata": {
      "image/png": {
       "height": 420,
       "width": 420
      }
     },
     "output_type": "display_data"
    }
   ],
   "source": [
    "#Make a table of the Age values from the subset of female data in question 1a, and plot the table of these Age values. (Notice that 999 is used when the Age value is missing in part 1b!)\n",
    "plot(table(femaleDF$Age))"
   ]
  },
  {
   "cell_type": "markdown",
   "id": "1c02b8a3-d84a-4b0d-a65a-4f62312f8c78",
   "metadata": {},
   "source": [
    "**Here I plotted the table sorting by age so that the ages are on the x-axis and the quantities on the y-axis. Here you can visualize the outlier of 999.**"
   ]
  },
  {
   "cell_type": "code",
   "execution_count": 29,
   "id": "10cb6005-ded7-4f9d-b08c-4fb9b1a7fd3d",
   "metadata": {},
   "outputs": [
    {
     "data": {
      "image/png": "[encoded data removed]",
      "text/plain": [
       "plot without title"
      ]
     },
     "metadata": {
      "image/png": {
       "height": 420,
       "width": 420
      }
     },
     "output_type": "display_data"
    }
   ],
   "source": [
    "#Now revise your subset from question 1a, so that you build a subset of the data for which Sex=='F' & Age!=999 and then make of table of the Age values from \n",
    "#this revised subset of female data and plot the table of these Age values.\n",
    "femaleDF <- subset(myDF, Sex=='F' & Age!=999)\n",
    "plot(table(femaleDF$Age))"
   ]
  },
  {
   "cell_type": "markdown",
   "id": "81c14b5b-b3b1-4ff8-ad07-319c859dc5da",
   "metadata": {},
   "source": [
    "**In this new iteration, I created a subset of the original data filtering by sex being female and the age not being the value of our outlier 999. I then plotted this subset (called femaleDF) sorting by age. The graph looks much better!**"
   ]
  },
  {
   "cell_type": "markdown",
   "id": "fc601975-35ed-4680-a4e1-0273ee3cc047",
   "metadata": {},
   "source": [
    "## Question 2"
   ]
  },
  {
   "cell_type": "code",
   "execution_count": 5,
   "id": "a16336a1-1ef0-41e8-bc7c-49387db27497",
   "metadata": {},
   "outputs": [
    {
     "data": {
      "text/html": [
       "<table class=\"dataframe\">\n",
       "<caption>A data.table: 6 x 9</caption>\n",
       "<thead>\n",
       "\t<tr><th scope=col>BASKET_NUM</th><th scope=col>HSHD_NUM</th><th scope=col>PURCHASE_</th><th scope=col>PRODUCT_NUM</th><th scope=col>SPEND</th><th scope=col>UNITS</th><th scope=col>STORE_R</th><th scope=col>WEEK_NUM</th><th scope=col>YEAR</th></tr>\n",
       "\t<tr><th scope=col>&lt;int&gt;</th><th scope=col>&lt;int&gt;</th><th scope=col>&lt;chr&gt;</th><th scope=col>&lt;int&gt;</th><th scope=col>&lt;dbl&gt;</th><th scope=col>&lt;int&gt;</th><th scope=col>&lt;chr&gt;</th><th scope=col>&lt;int&gt;</th><th scope=col>&lt;int&gt;</th></tr>\n",
       "</thead>\n",
       "<tbody>\n",
       "\t<tr><td> 24</td><td>1809</td><td>03-JAN-16</td><td>5817389</td><td>-1.50</td><td>-1</td><td>SOUTH</td><td>1</td><td>2016</td></tr>\n",
       "\t<tr><td> 24</td><td>1809</td><td>03-JAN-16</td><td>5829886</td><td>-1.50</td><td>-1</td><td>SOUTH</td><td>1</td><td>2016</td></tr>\n",
       "\t<tr><td> 34</td><td>1253</td><td>03-JAN-16</td><td> 539501</td><td> 2.19</td><td> 1</td><td>EAST </td><td>1</td><td>2016</td></tr>\n",
       "\t<tr><td> 60</td><td>1595</td><td>03-JAN-16</td><td>5260099</td><td> 0.99</td><td> 1</td><td>WEST </td><td>1</td><td>2016</td></tr>\n",
       "\t<tr><td> 60</td><td>1595</td><td>03-JAN-16</td><td>4535660</td><td> 2.50</td><td> 2</td><td>WEST </td><td>1</td><td>2016</td></tr>\n",
       "\t<tr><td>168</td><td>3393</td><td>03-JAN-16</td><td>5602916</td><td> 4.50</td><td> 1</td><td>SOUTH</td><td>1</td><td>2016</td></tr>\n",
       "</tbody>\n",
       "</table>\n"
      ],
      "text/latex": [
       "A data.table: 6 x 9\n",
       "\\begin{tabular}{lllllllll}\n",
       " BASKET\\_NUM & HSHD\\_NUM & PURCHASE\\_ & PRODUCT\\_NUM & SPEND & UNITS & STORE\\_R & WEEK\\_NUM & YEAR\\\\\n",
       " <int> & <int> & <chr> & <int> & <dbl> & <int> & <chr> & <int> & <int>\\\\\n",
       "\\hline\n",
       "\t  24 & 1809 & 03-JAN-16 & 5817389 & -1.50 & -1 & SOUTH & 1 & 2016\\\\\n",
       "\t  24 & 1809 & 03-JAN-16 & 5829886 & -1.50 & -1 & SOUTH & 1 & 2016\\\\\n",
       "\t  34 & 1253 & 03-JAN-16 &  539501 &  2.19 &  1 & EAST  & 1 & 2016\\\\\n",
       "\t  60 & 1595 & 03-JAN-16 & 5260099 &  0.99 &  1 & WEST  & 1 & 2016\\\\\n",
       "\t  60 & 1595 & 03-JAN-16 & 4535660 &  2.50 &  2 & WEST  & 1 & 2016\\\\\n",
       "\t 168 & 3393 & 03-JAN-16 & 5602916 &  4.50 &  1 & SOUTH & 1 & 2016\\\\\n",
       "\\end{tabular}\n"
      ],
      "text/markdown": [
       "\n",
       "A data.table: 6 x 9\n",
       "\n",
       "| BASKET_NUM &lt;int&gt; | HSHD_NUM &lt;int&gt; | PURCHASE_ &lt;chr&gt; | PRODUCT_NUM &lt;int&gt; | SPEND &lt;dbl&gt; | UNITS &lt;int&gt; | STORE_R &lt;chr&gt; | WEEK_NUM &lt;int&gt; | YEAR &lt;int&gt; |\n",
       "|---|---|---|---|---|---|---|---|---|\n",
       "|  24 | 1809 | 03-JAN-16 | 5817389 | -1.50 | -1 | SOUTH | 1 | 2016 |\n",
       "|  24 | 1809 | 03-JAN-16 | 5829886 | -1.50 | -1 | SOUTH | 1 | 2016 |\n",
       "|  34 | 1253 | 03-JAN-16 |  539501 |  2.19 |  1 | EAST  | 1 | 2016 |\n",
       "|  60 | 1595 | 03-JAN-16 | 5260099 |  0.99 |  1 | WEST  | 1 | 2016 |\n",
       "|  60 | 1595 | 03-JAN-16 | 4535660 |  2.50 |  2 | WEST  | 1 | 2016 |\n",
       "| 168 | 3393 | 03-JAN-16 | 5602916 |  4.50 |  1 | SOUTH | 1 | 2016 |\n",
       "\n"
      ],
      "text/plain": [
       "  BASKET_NUM HSHD_NUM PURCHASE_ PRODUCT_NUM SPEND UNITS STORE_R WEEK_NUM YEAR\n",
       "1  24        1809     03-JAN-16 5817389     -1.50 -1    SOUTH   1        2016\n",
       "2  24        1809     03-JAN-16 5829886     -1.50 -1    SOUTH   1        2016\n",
       "3  34        1253     03-JAN-16  539501      2.19  1    EAST    1        2016\n",
       "4  60        1595     03-JAN-16 5260099      0.99  1    WEST    1        2016\n",
       "5  60        1595     03-JAN-16 4535660      2.50  2    WEST    1        2016\n",
       "6 168        3393     03-JAN-16 5602916      4.50  1    SOUTH   1        2016"
      ]
     },
     "metadata": {},
     "output_type": "display_data"
    },
    {
     "data": {
      "text/html": [
       "<table class=\"dataframe\">\n",
       "<caption>A data.table: 6 x 9</caption>\n",
       "<thead>\n",
       "\t<tr><th scope=col>BASKET_NUM</th><th scope=col>HSHD_NUM</th><th scope=col>PURCHASE_</th><th scope=col>PRODUCT_NUM</th><th scope=col>SPEND</th><th scope=col>UNITS</th><th scope=col>STORE_R</th><th scope=col>WEEK_NUM</th><th scope=col>YEAR</th></tr>\n",
       "\t<tr><th scope=col>&lt;int&gt;</th><th scope=col>&lt;int&gt;</th><th scope=col>&lt;chr&gt;</th><th scope=col>&lt;int&gt;</th><th scope=col>&lt;dbl&gt;</th><th scope=col>&lt;int&gt;</th><th scope=col>&lt;chr&gt;</th><th scope=col>&lt;int&gt;</th><th scope=col>&lt;int&gt;</th></tr>\n",
       "</thead>\n",
       "<tbody>\n",
       "\t<tr><td>    24</td><td>1809</td><td>03-JAN-16</td><td>5817389</td><td>-1.50</td><td>-1</td><td>SOUTH  </td><td> 1</td><td>2016</td></tr>\n",
       "\t<tr><td>    24</td><td>1809</td><td>03-JAN-16</td><td>5829886</td><td>-1.50</td><td>-1</td><td>SOUTH  </td><td> 1</td><td>2016</td></tr>\n",
       "\t<tr><td>  4955</td><td>2570</td><td>06-JAN-16</td><td>5391980</td><td>-0.38</td><td> 1</td><td>WEST   </td><td> 1</td><td>2016</td></tr>\n",
       "\t<tr><td> 28557</td><td>3153</td><td>22-JAN-16</td><td>5184651</td><td>-3.42</td><td> 9</td><td>CENTRAL</td><td> 3</td><td>2016</td></tr>\n",
       "\t<tr><td> 62654</td><td>4172</td><td>15-FEB-16</td><td> 300529</td><td>-0.71</td><td> 1</td><td>EAST   </td><td> 7</td><td>2016</td></tr>\n",
       "\t<tr><td>163292</td><td>3452</td><td>28-APR-16</td><td> 899378</td><td>-0.61</td><td> 1</td><td>SOUTH  </td><td>17</td><td>2016</td></tr>\n",
       "</tbody>\n",
       "</table>\n"
      ],
      "text/latex": [
       "A data.table: 6 x 9\n",
       "\\begin{tabular}{lllllllll}\n",
       " BASKET\\_NUM & HSHD\\_NUM & PURCHASE\\_ & PRODUCT\\_NUM & SPEND & UNITS & STORE\\_R & WEEK\\_NUM & YEAR\\\\\n",
       " <int> & <int> & <chr> & <int> & <dbl> & <int> & <chr> & <int> & <int>\\\\\n",
       "\\hline\n",
       "\t     24 & 1809 & 03-JAN-16 & 5817389 & -1.50 & -1 & SOUTH   &  1 & 2016\\\\\n",
       "\t     24 & 1809 & 03-JAN-16 & 5829886 & -1.50 & -1 & SOUTH   &  1 & 2016\\\\\n",
       "\t   4955 & 2570 & 06-JAN-16 & 5391980 & -0.38 &  1 & WEST    &  1 & 2016\\\\\n",
       "\t  28557 & 3153 & 22-JAN-16 & 5184651 & -3.42 &  9 & CENTRAL &  3 & 2016\\\\\n",
       "\t  62654 & 4172 & 15-FEB-16 &  300529 & -0.71 &  1 & EAST    &  7 & 2016\\\\\n",
       "\t 163292 & 3452 & 28-APR-16 &  899378 & -0.61 &  1 & SOUTH   & 17 & 2016\\\\\n",
       "\\end{tabular}\n"
      ],
      "text/markdown": [
       "\n",
       "A data.table: 6 x 9\n",
       "\n",
       "| BASKET_NUM &lt;int&gt; | HSHD_NUM &lt;int&gt; | PURCHASE_ &lt;chr&gt; | PRODUCT_NUM &lt;int&gt; | SPEND &lt;dbl&gt; | UNITS &lt;int&gt; | STORE_R &lt;chr&gt; | WEEK_NUM &lt;int&gt; | YEAR &lt;int&gt; |\n",
       "|---|---|---|---|---|---|---|---|---|\n",
       "|     24 | 1809 | 03-JAN-16 | 5817389 | -1.50 | -1 | SOUTH   |  1 | 2016 |\n",
       "|     24 | 1809 | 03-JAN-16 | 5829886 | -1.50 | -1 | SOUTH   |  1 | 2016 |\n",
       "|   4955 | 2570 | 06-JAN-16 | 5391980 | -0.38 |  1 | WEST    |  1 | 2016 |\n",
       "|  28557 | 3153 | 22-JAN-16 | 5184651 | -3.42 |  9 | CENTRAL |  3 | 2016 |\n",
       "|  62654 | 4172 | 15-FEB-16 |  300529 | -0.71 |  1 | EAST    |  7 | 2016 |\n",
       "| 163292 | 3452 | 28-APR-16 |  899378 | -0.61 |  1 | SOUTH   | 17 | 2016 |\n",
       "\n"
      ],
      "text/plain": [
       "  BASKET_NUM HSHD_NUM PURCHASE_ PRODUCT_NUM SPEND UNITS STORE_R WEEK_NUM YEAR\n",
       "1     24     1809     03-JAN-16 5817389     -1.50 -1    SOUTH    1       2016\n",
       "2     24     1809     03-JAN-16 5829886     -1.50 -1    SOUTH    1       2016\n",
       "3   4955     2570     06-JAN-16 5391980     -0.38  1    WEST     1       2016\n",
       "4  28557     3153     22-JAN-16 5184651     -3.42  9    CENTRAL  3       2016\n",
       "5  62654     4172     15-FEB-16  300529     -0.71  1    EAST     7       2016\n",
       "6 163292     3452     28-APR-16  899378     -0.61  1    SOUTH   17       2016"
      ]
     },
     "metadata": {},
     "output_type": "display_data"
    },
    {
     "data": {
      "text/plain": [
       "\n",
       "CENTRAL    EAST   SOUTH    WEST \n",
       "   2750    3269    2675    3952 "
      ]
     },
     "metadata": {},
     "output_type": "display_data"
    }
   ],
   "source": [
    "#Show the number of refunds for each STORE_R value in the refundsDF subset. (For instance, CENTRAL stores had 2750 refunds.)\n",
    "library(data.table)\n",
    "myDF <- fread(\"/anvil/projects/tdm/data/8451/The_Complete_Journey_2_Master/5000_transactions.csv\")\n",
    "refundsDF <- subset(myDF, SPEND < 0)\n",
    "head(myDF)\n",
    "head(refundsDF)\n",
    "table(refundsDF$STORE_R)"
   ]
  },
  {
   "cell_type": "markdown",
   "id": "14dc22d4-ddc3-41cc-a91a-cb0025bc0c80",
   "metadata": {},
   "source": [
    "**Here I read the 5000_transactions.csv and created a new subset called refundsDF where it included any rows with negative values in the SPEND column. I then printed the head of refundsDF to see if the values were truly negative in comparison to the head of the original dataset. I then created a table to show the quantities of each value from the STORE_R column.**"
   ]
  },
  {
   "cell_type": "markdown",
   "id": "8e586edd-ff26-4ce2-8f6b-2424b26f2929",
   "metadata": {},
   "source": [
    "## Question 3"
   ]
  },
  {
   "cell_type": "code",
   "execution_count": 11,
   "id": "bbe0f40d-9655-4653-9ca8-886bdb61cb91",
   "metadata": {
    "scrolled": true
   },
   "outputs": [
    {
     "data": {
      "text/html": [
       "<table class=\"dataframe\">\n",
       "<caption>A data.table: 6 x 10</caption>\n",
       "<thead>\n",
       "\t<tr><th scope=col>beer_id</th><th scope=col>username</th><th scope=col>date</th><th scope=col>text</th><th scope=col>look</th><th scope=col>smell</th><th scope=col>taste</th><th scope=col>feel</th><th scope=col>overall</th><th scope=col>score</th></tr>\n",
       "\t<tr><th scope=col>&lt;int&gt;</th><th scope=col>&lt;chr&gt;</th><th scope=col>&lt;IDate&gt;</th><th scope=col>&lt;chr&gt;</th><th scope=col>&lt;dbl&gt;</th><th scope=col>&lt;dbl&gt;</th><th scope=col>&lt;dbl&gt;</th><th scope=col>&lt;dbl&gt;</th><th scope=col>&lt;dbl&gt;</th><th scope=col>&lt;dbl&gt;</th></tr>\n",
       "</thead>\n",
       "<tbody>\n",
       "\t<tr><td>125646</td><td>jneff33    </td><td>2017-12-20</td><td><c2><a0><c2><a0>                                                                                                                                                                                                                                                                                                                                                                                                                                                                                                                                                                                                                                                                                                                                          </td><td>4.50</td><td>4.75</td><td>5.00</td><td>5</td><td>5</td><td>4.91</td></tr>\n",
       "\t<tr><td>125646</td><td>JonB25     </td><td>2017-11-04</td><td><c2><a0><c2><a0>                                                                                                                                                                                                                                                                                                                                                                                                                                                                                                                                                                                                                                                                                                                                          </td><td>5.00</td><td>4.75</td><td>5.00</td><td>5</td><td>5</td><td>4.94</td></tr>\n",
       "\t<tr><td> 58482</td><td>JoePetto   </td><td>2009-06-07</td><td><c2><a0><c2><a0> On draft at TND in Wayne in 13oz wide beer flute. This is not an attempt to create a rendition of a true belgian pale ale, rather it is a \"\"tweener\"\" beer bridging the belgian and american pale ale styles. That said, this is a really enjoyable beer regardless of style. Funkiness of the Merry Monks yeast strain hits first then followed by a nice amount of hops flavor on the finish. The beer is zippy with flavor and carbonation and extremely refreshing. At 6% ABV, this beer is made to session. <c2><a0>                                                                                                                                                                                                                </td><td>4.50</td><td>4.50</td><td>5.00</td><td>5</td><td>5</td><td>4.85</td></tr>\n",
       "\t<tr><td>125646</td><td>HankSingle </td><td>2017-10-26</td><td><c2><a0><c2><a0> Goodness, me. A gift from a friend, just back from Western MA. I thought it looked a little light - a beautiful, bright, luminous light orange, hazy as the name suggests, but it seemed pale for the stats. Everything else, though. Ripping fruits on the nose, this drinks like the most perfectly balanced mimosa - fresh squeezed orange juice and kinetic effervescence...it's impossible to connect this beer with its alcohol content until after you've finished it, it is just so light, and so lovely. Soft and creamy on the tongue, it leaves the exactly perfect trail of crisp bitterness on the release. I loved this beer, very close to the best one I've ever had, I think. I was shattered when it was gone. <c2><a0></td><td>4.75</td><td>5.00</td><td>5.00</td><td>5</td><td>5</td><td>4.99</td></tr>\n",
       "\t<tr><td>125646</td><td>bubseymour </td><td>2017-10-26</td><td><c2><a0><c2><a0> Do you really need another review? What<e2><80><99>s not to like here?                                                                                                                                                                                                                                                                                                                                                                                                                                                                                                                                                                                                                                                                   </td><td>5.00</td><td>4.75</td><td>5.00</td><td>5</td><td>5</td><td>4.94</td></tr>\n",
       "\t<tr><td>125646</td><td>JamieDuncan</td><td>2017-10-26</td><td><c2><a0><c2><a0>                                                                                                                                                                                                                                                                                                                                                                                                                                                                                                                                                                                                                                                                                                                                          </td><td>5.00</td><td>5.00</td><td>4.75</td><td>5</td><td>5</td><td>4.90</td></tr>\n",
       "</tbody>\n",
       "</table>\n"
      ],
      "text/latex": [
       "A data.table: 6 x 10\n",
       "\\begin{tabular}{llllllllll}\n",
       " beer\\_id & username & date & text & look & smell & taste & feel & overall & score\\\\\n",
       " <int> & <chr> & <IDate> & <chr> & <dbl> & <dbl> & <dbl> & <dbl> & <dbl> & <dbl>\\\\\n",
       "\\hline\n",
       "\t 125646 & jneff33     & 2017-12-20 & <c2><a0><c2><a0>                                                                                                                                                                                                                                                                                                                                                                                                                                                                                                                                                                                                                                                                                                                                           & 4.50 & 4.75 & 5.00 & 5 & 5 & 4.91\\\\\n",
       "\t 125646 & JonB25      & 2017-11-04 & <c2><a0><c2><a0>                                                                                                                                                                                                                                                                                                                                                                                                                                                                                                                                                                                                                                                                                                                                           & 5.00 & 4.75 & 5.00 & 5 & 5 & 4.94\\\\\n",
       "\t  58482 & JoePetto    & 2009-06-07 & <c2><a0><c2><a0> On draft at TND in Wayne in 13oz wide beer flute. This is not an attempt to create a rendition of a true belgian pale ale, rather it is a \"\"tweener\"\" beer bridging the belgian and american pale ale styles. That said, this is a really enjoyable beer regardless of style. Funkiness of the Merry Monks yeast strain hits first then followed by a nice amount of hops flavor on the finish. The beer is zippy with flavor and carbonation and extremely refreshing. At 6\\% ABV, this beer is made to session. <c2><a0>                                                                                                                                                                                                                 & 4.50 & 4.50 & 5.00 & 5 & 5 & 4.85\\\\\n",
       "\t 125646 & HankSingle  & 2017-10-26 & <c2><a0><c2><a0> Goodness, me. A gift from a friend, just back from Western MA. I thought it looked a little light - a beautiful, bright, luminous light orange, hazy as the name suggests, but it seemed pale for the stats. Everything else, though. Ripping fruits on the nose, this drinks like the most perfectly balanced mimosa - fresh squeezed orange juice and kinetic effervescence...it's impossible to connect this beer with its alcohol content until after you've finished it, it is just so light, and so lovely. Soft and creamy on the tongue, it leaves the exactly perfect trail of crisp bitterness on the release. I loved this beer, very close to the best one I've ever had, I think. I was shattered when it was gone. <c2><a0> & 4.75 & 5.00 & 5.00 & 5 & 5 & 4.99\\\\\n",
       "\t 125646 & bubseymour  & 2017-10-26 & <c2><a0><c2><a0> Do you really need another review? What<e2><80><99>s not to like here?                                                                                                                                                                                                                                                                                                                                                                                                                                                                                                                                                                                                                                                                    & 5.00 & 4.75 & 5.00 & 5 & 5 & 4.94\\\\\n",
       "\t 125646 & JamieDuncan & 2017-10-26 & <c2><a0><c2><a0>                                                                                                                                                                                                                                                                                                                                                                                                                                                                                                                                                                                                                                                                                                                                           & 5.00 & 5.00 & 4.75 & 5 & 5 & 4.90\\\\\n",
       "\\end{tabular}\n"
      ],
      "text/markdown": [
       "\n",
       "A data.table: 6 x 10\n",
       "\n",
       "| beer_id &lt;int&gt; | username &lt;chr&gt; | date &lt;IDate&gt; | text &lt;chr&gt; | look &lt;dbl&gt; | smell &lt;dbl&gt; | taste &lt;dbl&gt; | feel &lt;dbl&gt; | overall &lt;dbl&gt; | score &lt;dbl&gt; |\n",
       "|---|---|---|---|---|---|---|---|---|---|\n",
       "| 125646 | jneff33     | 2017-12-20 | <c2><a0><c2><a0>                                                                                                                                                                                                                                                                                                                                                                                                                                                                                                                                                                                                                                                                                                                                           | 4.50 | 4.75 | 5.00 | 5 | 5 | 4.91 |\n",
       "| 125646 | JonB25      | 2017-11-04 | <c2><a0><c2><a0>                                                                                                                                                                                                                                                                                                                                                                                                                                                                                                                                                                                                                                                                                                                                           | 5.00 | 4.75 | 5.00 | 5 | 5 | 4.94 |\n",
       "|  58482 | JoePetto    | 2009-06-07 | <c2><a0><c2><a0> On draft at TND in Wayne in 13oz wide beer flute. This is not an attempt to create a rendition of a true belgian pale ale, rather it is a \"\"tweener\"\" beer bridging the belgian and american pale ale styles. That said, this is a really enjoyable beer regardless of style. Funkiness of the Merry Monks yeast strain hits first then followed by a nice amount of hops flavor on the finish. The beer is zippy with flavor and carbonation and extremely refreshing. At 6% ABV, this beer is made to session. <c2><a0>                                                                                                                                                                                                                 | 4.50 | 4.50 | 5.00 | 5 | 5 | 4.85 |\n",
       "| 125646 | HankSingle  | 2017-10-26 | <c2><a0><c2><a0> Goodness, me. A gift from a friend, just back from Western MA. I thought it looked a little light - a beautiful, bright, luminous light orange, hazy as the name suggests, but it seemed pale for the stats. Everything else, though. Ripping fruits on the nose, this drinks like the most perfectly balanced mimosa - fresh squeezed orange juice and kinetic effervescence...it's impossible to connect this beer with its alcohol content until after you've finished it, it is just so light, and so lovely. Soft and creamy on the tongue, it leaves the exactly perfect trail of crisp bitterness on the release. I loved this beer, very close to the best one I've ever had, I think. I was shattered when it was gone. <c2><a0> | 4.75 | 5.00 | 5.00 | 5 | 5 | 4.99 |\n",
       "| 125646 | bubseymour  | 2017-10-26 | <c2><a0><c2><a0> Do you really need another review? What<e2><80><99>s not to like here?                                                                                                                                                                                                                                                                                                                                                                                                                                                                                                                                                                                                                                                                    | 5.00 | 4.75 | 5.00 | 5 | 5 | 4.94 |\n",
       "| 125646 | JamieDuncan | 2017-10-26 | <c2><a0><c2><a0>                                                                                                                                                                                                                                                                                                                                                                                                                                                                                                                                                                                                                                                                                                                                           | 5.00 | 5.00 | 4.75 | 5 | 5 | 4.90 |\n",
       "\n"
      ],
      "text/plain": [
       "  beer_id username    date      \n",
       "1 125646  jneff33     2017-12-20\n",
       "2 125646  JonB25      2017-11-04\n",
       "3  58482  JoePetto    2009-06-07\n",
       "4 125646  HankSingle  2017-10-26\n",
       "5 125646  bubseymour  2017-10-26\n",
       "6 125646  JamieDuncan 2017-10-26\n",
       "  text                                                                                                                                                                                                                                                                                                                                                                                                                                                                                                                                                                                                                                                                                                                                                      \n",
       "1 \\302\\240\\302\\240                                                                                                                                                                                                                                                                                                                                                                                                                                                                                                                                                                                                                                                                                                                                          \n",
       "2 \\302\\240\\302\\240                                                                                                                                                                                                                                                                                                                                                                                                                                                                                                                                                                                                                                                                                                                                          \n",
       "3 \\302\\240\\302\\240 On draft at TND in Wayne in 13oz wide beer flute. This is not an attempt to create a rendition of a true belgian pale ale, rather it is a \"\"tweener\"\" beer bridging the belgian and american pale ale styles. That said, this is a really enjoyable beer regardless of style. Funkiness of the Merry Monks yeast strain hits first then followed by a nice amount of hops flavor on the finish. The beer is zippy with flavor and carbonation and extremely refreshing. At 6% ABV, this beer is made to session. \\302\\240                                                                                                                                                                                                                \n",
       "4 \\302\\240\\302\\240 Goodness, me. A gift from a friend, just back from Western MA. I thought it looked a little light - a beautiful, bright, luminous light orange, hazy as the name suggests, but it seemed pale for the stats. Everything else, though. Ripping fruits on the nose, this drinks like the most perfectly balanced mimosa - fresh squeezed orange juice and kinetic effervescence...it's impossible to connect this beer with its alcohol content until after you've finished it, it is just so light, and so lovely. Soft and creamy on the tongue, it leaves the exactly perfect trail of crisp bitterness on the release. I loved this beer, very close to the best one I've ever had, I think. I was shattered when it was gone. \\302\\240\n",
       "5 \\302\\240\\302\\240 Do you really need another review? What\\342\\200\\231s not to like here?                                                                                                                                                                                                                                                                                                                                                                                                                                                                                                                                                                                                                                                                   \n",
       "6 \\302\\240\\302\\240                                                                                                                                                                                                                                                                                                                                                                                                                                                                                                                                                                                                                                                                                                                                          \n",
       "  look smell taste feel overall score\n",
       "1 4.50 4.75  5.00  5    5       4.91 \n",
       "2 5.00 4.75  5.00  5    5       4.94 \n",
       "3 4.50 4.50  5.00  5    5       4.85 \n",
       "4 4.75 5.00  5.00  5    5       4.99 \n",
       "5 5.00 4.75  5.00  5    5       4.94 \n",
       "6 5.00 5.00  4.75  5    5       4.90 "
      ]
     },
     "metadata": {},
     "output_type": "display_data"
    },
    {
     "data": {
      "text/html": [
       "<style>\n",
       ".list-inline {list-style: none; margin:0; padding: 0}\n",
       ".list-inline>li {display: inline-block}\n",
       ".list-inline>li:not(:last-child)::after {content: \"\\00b7\"; padding: 0 .5ex}\n",
       "</style>\n",
       "<ol class=list-inline><li>12436</li><li>10</li></ol>\n"
      ],
      "text/latex": [
       "\\begin{enumerate*}\n",
       "\\item 12436\n",
       "\\item 10\n",
       "\\end{enumerate*}\n"
      ],
      "text/markdown": [
       "1. 12436\n",
       "2. 10\n",
       "\n",
       "\n"
      ],
      "text/plain": [
       "[1] 12436    10"
      ]
     },
     "metadata": {},
     "output_type": "display_data"
    }
   ],
   "source": [
    "#How many lines of data are in the subset that has (score != 5) & (overall == 5) ?\n",
    "myDF <- fread('/anvil/projects/tdm/data/beer/reviews_sample.csv')\n",
    "rescoreDF <- subset(myDF, score != 5 & overall == 5)\n",
    "head(rescoreDF)\n",
    "dim(rescoreDF)"
   ]
  },
  {
   "cell_type": "markdown",
   "id": "346b89e3-c681-4904-ad8a-9f5d9f358210",
   "metadata": {},
   "source": [
    "**Here I read the reviews_sample.csv and created a new subset called rescoreDF where it included rows not exactly equal to 5 and had overalls of exactly 5. I then printed the head of rescoreDF to see if the overall and score values reflected my input. I then showed the dimensions of the rescoreDF to give us an idea of how many rows met both criteria.**"
   ]
  },
  {
   "cell_type": "markdown",
   "id": "da22f29c-d245-4d2b-9fc1-ca14cb6087d9",
   "metadata": {},
   "source": [
    "## Question 4"
   ]
  },
  {
   "cell_type": "code",
   "execution_count": 15,
   "id": "8cffc767-d1c8-4d64-b7dc-f0d2ee8a80d1",
   "metadata": {},
   "outputs": [
    {
     "data": {
      "text/plain": [
       "\n",
       "      CURCIO, BARBARA G SCHECK, RICHARD HERBERT          WOLFF, GARY W. \n",
       "                      1                       6                       2 "
      ]
     },
     "metadata": {},
     "output_type": "display_data"
    }
   ],
   "source": [
    "#Find the name of the person who made 6 donations in 1980 with a missing TRANSACTION_DT.\n",
    "library(data.table)\n",
    "myDF <- fread(\"/anvil/projects/tdm/data/election/itcont1980.txt\", quote=\"\")\n",
    "names(myDF) <- c(\"CMTE_ID\", \"AMNDT_IND\", \"RPT_TP\", \"TRANSACTION_PGI\", \"IMAGE_NUM\", \"TRANSACTION_TP\", \"ENTITY_TP\", \"NAME\", \"CITY\", \"STATE\", \"ZIP_CODE\", \"EMPLOYER\", \"OCCUPATION\", \"TRANSACTION_DT\", \"TRANSACTION_AMT\", \"OTHER_ID\", \"TRAN_ID\", \"FILE_NUM\", \"MEMO_CD\", \"MEMO_TEXT\", \"SUB_ID\")\n",
    "identity <- subset(myDF, is.na(TRANSACTION_DT))\n",
    "table(identity$NAME)\n"
   ]
  },
  {
   "cell_type": "markdown",
   "id": "0d552245-b4d6-474a-9cc9-fa7b8e674d55",
   "metadata": {},
   "source": [
    "**First I imported the itcont1980 per the directions in the assignment. Then I created a new subset called identity where I only allowed rows that had NA for TRANSACTION_DT. Then I created a table that shows the quantities for each NAME value. This revealed that the person with the 6 NA TRANSACTION_DT data is Richard Herbert Scheck.**"
   ]
  },
  {
   "cell_type": "markdown",
   "id": "88c9cdac-3e92-498f-83fa-e089bfc44ac8",
   "metadata": {},
   "source": [
    "## Question 5"
   ]
  },
  {
   "cell_type": "code",
   "execution_count": 16,
   "id": "d370d7c9-06db-42b9-b75f-240481a5c491",
   "metadata": {
    "scrolled": true
   },
   "outputs": [
    {
     "data": {
      "text/html": [
       "<style>\n",
       ".list-inline {list-style: none; margin:0; padding: 0}\n",
       ".list-inline>li {display: inline-block}\n",
       ".list-inline>li:not(:last-child)::after {content: \"\\00b7\"; padding: 0 .5ex}\n",
       "</style>\n",
       "<ol class=list-inline><li>52458</li><li>29</li></ol>\n"
      ],
      "text/latex": [
       "\\begin{enumerate*}\n",
       "\\item 52458\n",
       "\\item 29\n",
       "\\end{enumerate*}\n"
      ],
      "text/markdown": [
       "1. 52458\n",
       "2. 29\n",
       "\n",
       "\n"
      ],
      "text/plain": [
       "[1] 52458    29"
      ]
     },
     "metadata": {},
     "output_type": "display_data"
    },
    {
     "data": {
      "text/plain": [
       "\n",
       "  FALSE    TRUE \n",
       "5218435   52458 "
      ]
     },
     "metadata": {},
     "output_type": "display_data"
    }
   ],
   "source": [
    "#a. Find the number of flights for which the DepDelay is missing and also (simultaneously) \n",
    "#the ArrDelay is missing too.\n",
    "myDF <- fread('/anvil/projects/tdm/data/flights/subset/1990.csv')\n",
    "missingDelay <- subset(myDF, is.na(DepDelay) & is.na(ArrDelay))\n",
    "dim(missingDelay)\n",
    "table(is.na(myDF$DepDelay) & is.na(myDF$ArrDelay))"
   ]
  },
  {
   "cell_type": "markdown",
   "id": "9fbf00fb-2418-460f-ae94-2a32b0c28952",
   "metadata": {},
   "source": [
    "**Here I read the 1990.csv file then made a new subset called missingDelay in which it included any rows where DepDelay values are missing and ArrDelay values are missing. I then printed the dimensions and a table giving true or false values regarding the quantity of rows that meet the criteria of missing ArrDelay and DepDelay values. Both are the same so I am confident there are 52458 rows of data that apply to both.**"
   ]
  },
  {
   "cell_type": "code",
   "execution_count": 17,
   "id": "cbd519a8-c13b-48bc-83a4-b46e35c0e972",
   "metadata": {},
   "outputs": [
    {
     "data": {
      "text/html": [
       "<style>\n",
       ".list-inline {list-style: none; margin:0; padding: 0}\n",
       ".list-inline>li {display: inline-block}\n",
       ".list-inline>li:not(:last-child)::after {content: \"\\00b7\"; padding: 0 .5ex}\n",
       "</style>\n",
       "<ol class=list-inline><li>15954</li><li>29</li></ol>\n"
      ],
      "text/latex": [
       "\\begin{enumerate*}\n",
       "\\item 15954\n",
       "\\item 29\n",
       "\\end{enumerate*}\n"
      ],
      "text/markdown": [
       "1. 15954\n",
       "2. 29\n",
       "\n",
       "\n"
      ],
      "text/plain": [
       "[1] 15954    29"
      ]
     },
     "metadata": {},
     "output_type": "display_data"
    },
    {
     "data": {
      "text/plain": [
       "\n",
       "  FALSE    TRUE \n",
       "5254939   15954 "
      ]
     },
     "metadata": {},
     "output_type": "display_data"
    }
   ],
   "source": [
    "#b. Find the number of flights for which the DepDelay is given but the ArrDelay is missing.\n",
    "missingArrDelay <- subset(myDF, !is.na(DepDelay) & is.na(ArrDelay))\n",
    "dim(missingArrDelay)\n",
    "table(!is.na(myDF$DepDelay) & is.na(myDF$ArrDelay))"
   ]
  },
  {
   "cell_type": "markdown",
   "id": "cad97c35-efd5-4449-bbe2-7222d3d96487",
   "metadata": {},
   "source": [
    "**Here I made a new subset called missingArrDelay in which it included any rows where DepDelay values are NOT missing and ArrDelay values are missing. I then printed the dimensions and a table giving true or false values regarding the quantity of rows that meet the criteria of missing ArrDelay and not DepDelay values. Both are the same so I am confident there are 15954 rows of data are missing ArrDelay values but NOT missing DepDelay values.**"
   ]
  },
  {
   "cell_type": "code",
   "execution_count": 54,
   "id": "2d0fade2-d5f6-42d3-9d57-faa7a478f365",
   "metadata": {},
   "outputs": [
    {
     "data": {
      "text/html": [
       "<style>\n",
       ".list-inline {list-style: none; margin:0; padding: 0}\n",
       ".list-inline>li {display: inline-block}\n",
       ".list-inline>li:not(:last-child)::after {content: \"\\00b7\"; padding: 0 .5ex}\n",
       "</style>\n",
       "<ol class=list-inline><li>0</li><li>29</li></ol>\n"
      ],
      "text/latex": [
       "\\begin{enumerate*}\n",
       "\\item 0\n",
       "\\item 29\n",
       "\\end{enumerate*}\n"
      ],
      "text/markdown": [
       "1. 0\n",
       "2. 29\n",
       "\n",
       "\n"
      ],
      "text/plain": [
       "[1]  0 29"
      ]
     },
     "metadata": {},
     "output_type": "display_data"
    },
    {
     "data": {
      "text/plain": [
       "\n",
       "  FALSE \n",
       "5270893 "
      ]
     },
     "metadata": {},
     "output_type": "display_data"
    }
   ],
   "source": [
    "#c. Find the number of flights for which the ArrDelay is given but the DepDelay is missing.\n",
    "missingDepDelay <- subset(myDF, is.na(DepDelay) & !is.na(ArrDelay))\n",
    "dim(missingDepDelay)\n",
    "table(is.na(myDF$DepDelay) & !is.na(myDF$ArrDelay))"
   ]
  },
  {
   "cell_type": "markdown",
   "id": "e5ad8bac-fdec-4316-a80a-0589b800a8d2",
   "metadata": {},
   "source": [
    "**Here I made a new subset called missingDepDelay in which it included any rows where DepDelay values are missing and ArrDelay values are NOT missing. I then printed the dimensions and a table giving true or false values regarding the quantity of rows that meet the criteria of missing DepDelay and not ArrDelay values. Both are the same so I am confident there are 0 rows of data are missing DepDelay values but NOT missing ArrDelay values.**"
   ]
  },
  {
   "cell_type": "markdown",
   "id": "f76442d6-d02e-4f26-b9d6-c3183e1d6929",
   "metadata": {},
   "source": [
    "## Pledge\n",
    "\n",
    "By submitting this work I hereby pledge that this is my own, personal work. I've acknowledged in the designated place at the top of this file all sources that I used to complete said work, including but not limited to: online resources, books, and electronic communications. I've noted all collaboration with fellow students and/or TA's. I did not copy or plagiarize another's work.\n",
    "\n",
    "> As a Boilermaker pursuing academic excellence, I pledge to be honest and true in all that I do. Accountable together – We are Purdue."
   ]
  }
 ],
 "metadata": {
  "kernelspec": {
   "display_name": "seminar-r",
   "language": "R",
   "name": "seminar-r"
  },
  "language_info": {
   "codemirror_mode": "r",
   "file_extension": ".r",
   "mimetype": "text/x-r-source",
   "name": "R",
   "pygments_lexer": "r",
   "version": "4.3.1"
  }
 },
 "nbformat": 4,
 "nbformat_minor": 5
}
