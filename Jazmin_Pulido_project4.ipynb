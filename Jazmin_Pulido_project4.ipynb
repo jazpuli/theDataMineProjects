{
 "cells": [
  {
   "cell_type": "markdown",
   "id": "be02a957-7133-4d02-818e-fedeb3cecb05",
   "metadata": {},
   "source": [
    "# Project 4 -- Jazmin Pulido"
   ]
  },
  {
   "cell_type": "markdown",
   "id": "a1228853-dd19-4ab2-89e0-0394d7d72de3",
   "metadata": {},
   "source": [
    "**TA Help:** N/A\n",
    "\n",
    "- Helped with...\n",
    "- only used the Examples book\n",
    "    \n",
    "**Collaboration:** N/A\n",
    "    \n",
    "- Helped with..."
   ]
  },
  {
   "cell_type": "markdown",
   "id": "6180e742-8e39-4698-98ff-5b00c8cf8ea0",
   "metadata": {},
   "source": [
    "## Question 1"
   ]
  },
  {
   "cell_type": "code",
   "execution_count": 1,
   "id": "49445606-d363-41b4-b479-e319a9a84c01",
   "metadata": {},
   "outputs": [
    {
     "data": {
      "text/html": [
       "<style>\n",
       ".dl-inline {width: auto; margin:0; padding: 0}\n",
       ".dl-inline>dt, .dl-inline>dd {float: none; width: auto; display: inline-block}\n",
       ".dl-inline>dt::after {content: \":\\0020\"; padding-right: .5ex}\n",
       ".dl-inline>dt:not(:first-of-type) {padding-left: .5ex}\n",
       "</style><dl class=dl-inline><dt>F</dt><dd>76.6766847989167</dd><dt>M</dt><dd>70.2278579695537</dd></dl>\n"
      ],
      "text/latex": [
       "\\begin{description*}\n",
       "\\item[F] 76.6766847989167\n",
       "\\item[M] 70.2278579695537\n",
       "\\end{description*}\n"
      ],
      "text/markdown": [
       "F\n",
       ":   76.6766847989167M\n",
       ":   70.2278579695537\n",
       "\n"
      ],
      "text/plain": [
       "       F        M \n",
       "76.67668 70.22786 "
      ]
     },
     "metadata": {},
     "output_type": "display_data"
    }
   ],
   "source": [
    "#Show the mean Age of death for each Sex.\n",
    "library(data.table)\n",
    "myDF <- fread(\"/anvil/projects/tdm/data/death_records/DeathRecords.csv\")\n",
    "tapply(myDF$Age, myDF$Sex, mean)"
   ]
  },
  {
   "cell_type": "markdown",
   "id": "b456e57c-4a12-464b-999a-ef2df5af80c1",
   "metadata": {},
   "source": [
    "**Here I showed the mean Age of death for each Sex by first importing the data.table library, then reading the death records file using fread. I then used tapply to get the mean of the ages sorted by the sex column.**"
   ]
  },
  {
   "cell_type": "markdown",
   "id": "fc601975-35ed-4680-a4e1-0273ee3cc047",
   "metadata": {},
   "source": [
    "## Question 2"
   ]
  },
  {
   "cell_type": "code",
   "execution_count": 3,
   "id": "a16336a1-1ef0-41e8-bc7c-49387db27497",
   "metadata": {},
   "outputs": [
    {
     "data": {
      "text/html": [
       "<style>\n",
       ".dl-inline {width: auto; margin:0; padding: 0}\n",
       ".dl-inline>dt, .dl-inline>dd {float: none; width: auto; display: inline-block}\n",
       ".dl-inline>dt::after {content: \":\\0020\"; padding-right: .5ex}\n",
       ".dl-inline>dt:not(:first-of-type) {padding-left: .5ex}\n",
       "</style><dl class=dl-inline><dt>89415</dt><dd>50032.42</dd><dt>8523</dt><dd>53845.65</dd><dt>1344763</dt><dd>58170.84</dd><dt>4889358</dt><dd>63823.61</dd><dt>85201</dt><dd>65605.34</dd><dt>766108</dt><dd>66085</dd><dt>74424</dt><dd>75787.49</dd><dt>85311</dt><dd>102928.59</dd><dt>1367192</dt><dd>111433.78</dd><dt>8511</dt><dd>131399.78</dd></dl>\n"
      ],
      "text/latex": [
       "\\begin{description*}\n",
       "\\item[89415] 50032.42\n",
       "\\item[8523] 53845.65\n",
       "\\item[1344763] 58170.84\n",
       "\\item[4889358] 63823.61\n",
       "\\item[85201] 65605.34\n",
       "\\item[766108] 66085\n",
       "\\item[74424] 75787.49\n",
       "\\item[85311] 102928.59\n",
       "\\item[1367192] 111433.78\n",
       "\\item[8511] 131399.78\n",
       "\\end{description*}\n"
      ],
      "text/markdown": [
       "89415\n",
       ":   50032.428523\n",
       ":   53845.651344763\n",
       ":   58170.844889358\n",
       ":   63823.6185201\n",
       ":   65605.34766108\n",
       ":   6608574424\n",
       ":   75787.4985311\n",
       ":   102928.591367192\n",
       ":   111433.788511\n",
       ":   131399.78\n",
       "\n"
      ],
      "text/plain": [
       "    89415      8523   1344763   4889358     85201    766108     74424     85311 \n",
       " 50032.42  53845.65  58170.84  63823.61  65605.34  66085.00  75787.49 102928.59 \n",
       "  1367192      8511 \n",
       "111433.78 131399.78 "
      ]
     },
     "metadata": {},
     "output_type": "display_data"
    }
   ],
   "source": [
    "#Show the top 10 types of PRODUCT_NUM, according to the total amount of money spent on those products \n",
    "#(i.e., according to the sum of the SPEND column for those 10 PRODUCT_NUM values).\n",
    "library(data.table)\n",
    "myDF <- fread(\"/anvil/projects/tdm/data/8451/The_Complete_Journey_2_Master/5000_transactions.csv\")\n",
    "tail(sort(tapply(myDF$SPEND, myDF$PRODUCT_NUM, sum)), 10)"
   ]
  },
  {
   "cell_type": "markdown",
   "id": "14dc22d4-ddc3-41cc-a91a-cb0025bc0c80",
   "metadata": {},
   "source": [
    "**Here I showed the top 10 types of PRODUCT_NUM according to the total amount of money spent on those products by first importing the data.table library, then reading the 5000_transactions.csv file using fread. I then used tapply to get the sum of the SPEND column sorted by the PRODUCT_NUM column. I then sorted the spend values numerically and took the tail of the highest numbers, only displaying the last ten rows.**"
   ]
  },
  {
   "cell_type": "markdown",
   "id": "8e586edd-ff26-4ce2-8f6b-2424b26f2929",
   "metadata": {},
   "source": [
    "## Question 3"
   ]
  },
  {
   "cell_type": "code",
   "execution_count": 2,
   "id": "bbe0f40d-9655-4653-9ca8-886bdb61cb91",
   "metadata": {},
   "outputs": [
    {
     "data": {
      "text/html": [
       "<style>\n",
       ".dl-inline {width: auto; margin:0; padding: 0}\n",
       ".dl-inline>dt, .dl-inline>dd {float: none; width: auto; display: inline-block}\n",
       ".dl-inline>dt::after {content: \":\\0020\"; padding-right: .5ex}\n",
       ".dl-inline>dt:not(:first-of-type) {padding-left: .5ex}\n",
       "</style><dl class=dl-inline><dt>2001-04-26</dt><dd>5</dd><dt>2001-06-18</dt><dd>5</dd><dt>2002-01-26</dt><dd>5</dd></dl>\n"
      ],
      "text/latex": [
       "\\begin{description*}\n",
       "\\item[2001-04-26] 5\n",
       "\\item[2001-06-18] 5\n",
       "\\item[2002-01-26] 5\n",
       "\\end{description*}\n"
      ],
      "text/markdown": [
       "2001-04-26\n",
       ":   52001-06-18\n",
       ":   52002-01-26\n",
       ":   5\n",
       "\n"
      ],
      "text/plain": [
       "2001-04-26 2001-06-18 2002-01-26 \n",
       "         5          5          5 "
      ]
     },
     "metadata": {},
     "output_type": "display_data"
    }
   ],
   "source": [
    "#Show the three dates on which the mean score is a 5.\n",
    "library(data.table)\n",
    "myDF <- fread(\"/anvil/projects/tdm/data/beer/reviews_sample.csv\")\n",
    "tail(sort((tapply(myDF$score, myDF$date, mean))),3)"
   ]
  },
  {
   "cell_type": "markdown",
   "id": "346b89e3-c681-4904-ad8a-9f5d9f358210",
   "metadata": {},
   "source": [
    "**Here I showed the three dates in which the mean score is a 5 by first importing the data.table library, then reading the reviews_sample.csv file using fread. I then used tapply to get the mean of the score column sorted by the date column. I then sorted the score values numerically and took the tail of the highest numbers, only displaying the last 3 rows.**"
   ]
  },
  {
   "cell_type": "markdown",
   "id": "da22f29c-d245-4d2b-9fc1-ca14cb6087d9",
   "metadata": {},
   "source": [
    "## Question 4"
   ]
  },
  {
   "cell_type": "code",
   "execution_count": 4,
   "id": "8cffc767-d1c8-4d64-b7dc-f0d2ee8a80d1",
   "metadata": {},
   "outputs": [
    {
     "data": {
      "text/html": [
       "<style>\n",
       ".dl-inline {width: auto; margin:0; padding: 0}\n",
       ".dl-inline>dt, .dl-inline>dd {float: none; width: auto; display: inline-block}\n",
       ".dl-inline>dt::after {content: \":\\0020\"; padding-right: .5ex}\n",
       ".dl-inline>dt:not(:first-of-type) {padding-left: .5ex}\n",
       "</style><dl class=dl-inline><dt>CINCINNATI, OH</dt><dd>1096983</dd><dt>DENVER, CO</dt><dd>1183471</dd><dt>MIDLAND, TX</dt><dd>1210584</dd><dt>WASHINGTOM, DC</dt><dd>1300341</dd><dt>GREENWICH, CT</dt><dd>1340112</dd><dt>TULSA, OK</dt><dd>1341956</dd><dt>MIAMI, FL</dt><dd>1541867</dd><dt>SAN ANTONIO, TX</dt><dd>1583292</dd><dt>ST LOUIS, MO</dt><dd>1639570</dd><dt>OKLAHOMA CITY, OK</dt><dd>1751431</dd><dt>ATLANTA, GA</dt><dd>1892356</dd><dt>BEVERLY HILLS, CA</dt><dd>2053148</dd><dt>SAN FRANCISCO, CA</dt><dd>2061441</dd><dt>CHICAGO, IL</dt><dd>3179470</dd><dt>WASHINGTON, DC</dt><dd>4273606</dd><dt>LOS ANGELES, CA</dt><dd>4569952</dd><dt>DALLAS, TX</dt><dd>4748262</dd><dt>HOUSTON, TX</dt><dd>7606806</dd><dt>NEW YORK, NY</dt><dd>11345027</dd><dt>, </dt><dd>17299729</dd></dl>\n"
      ],
      "text/latex": [
       "\\begin{description*}\n",
       "\\item[CINCINNATI, OH] 1096983\n",
       "\\item[DENVER, CO] 1183471\n",
       "\\item[MIDLAND, TX] 1210584\n",
       "\\item[WASHINGTOM, DC] 1300341\n",
       "\\item[GREENWICH, CT] 1340112\n",
       "\\item[TULSA, OK] 1341956\n",
       "\\item[MIAMI, FL] 1541867\n",
       "\\item[SAN ANTONIO, TX] 1583292\n",
       "\\item[ST LOUIS, MO] 1639570\n",
       "\\item[OKLAHOMA CITY, OK] 1751431\n",
       "\\item[ATLANTA, GA] 1892356\n",
       "\\item[BEVERLY HILLS, CA] 2053148\n",
       "\\item[SAN FRANCISCO, CA] 2061441\n",
       "\\item[CHICAGO, IL] 3179470\n",
       "\\item[WASHINGTON, DC] 4273606\n",
       "\\item[LOS ANGELES, CA] 4569952\n",
       "\\item[DALLAS, TX] 4748262\n",
       "\\item[HOUSTON, TX] 7606806\n",
       "\\item[NEW YORK, NY] 11345027\n",
       "\\item[, ] 17299729\n",
       "\\end{description*}\n"
      ],
      "text/markdown": [
       "CINCINNATI, OH\n",
       ":   1096983DENVER, CO\n",
       ":   1183471MIDLAND, TX\n",
       ":   1210584WASHINGTOM, DC\n",
       ":   1300341GREENWICH, CT\n",
       ":   1340112TULSA, OK\n",
       ":   1341956MIAMI, FL\n",
       ":   1541867SAN ANTONIO, TX\n",
       ":   1583292ST LOUIS, MO\n",
       ":   1639570OKLAHOMA CITY, OK\n",
       ":   1751431ATLANTA, GA\n",
       ":   1892356BEVERLY HILLS, CA\n",
       ":   2053148SAN FRANCISCO, CA\n",
       ":   2061441CHICAGO, IL\n",
       ":   3179470WASHINGTON, DC\n",
       ":   4273606LOS ANGELES, CA\n",
       ":   4569952DALLAS, TX\n",
       ":   4748262HOUSTON, TX\n",
       ":   7606806NEW YORK, NY\n",
       ":   11345027, \n",
       ":   17299729\n",
       "\n"
      ],
      "text/plain": [
       "   CINCINNATI, OH        DENVER, CO       MIDLAND, TX    WASHINGTOM, DC \n",
       "          1096983           1183471           1210584           1300341 \n",
       "    GREENWICH, CT         TULSA, OK         MIAMI, FL   SAN ANTONIO, TX \n",
       "          1340112           1341956           1541867           1583292 \n",
       "     ST LOUIS, MO OKLAHOMA CITY, OK       ATLANTA, GA BEVERLY HILLS, CA \n",
       "          1639570           1751431           1892356           2053148 \n",
       "SAN FRANCISCO, CA       CHICAGO, IL    WASHINGTON, DC   LOS ANGELES, CA \n",
       "          2061441           3179470           4273606           4569952 \n",
       "       DALLAS, TX       HOUSTON, TX      NEW YORK, NY                ,  \n",
       "          4748262           7606806          11345027          17299729 "
      ]
     },
     "metadata": {},
     "output_type": "display_data"
    }
   ],
   "source": [
    "#Show the top 20 city-and-state pairs, according to the amount of money donated.\n",
    "library(data.table)\n",
    "myDF <- fread(\"/anvil/projects/tdm/data/election/itcont1980.txt\", quote=\"\")\n",
    "names(myDF) <- c(\"CMTE_ID\", \"AMNDT_IND\", \"RPT_TP\", \"TRANSACTION_PGI\", \"IMAGE_NUM\", \"TRANSACTION_TP\", \"ENTITY_TP\", \"NAME\", \"CITY\", \"STATE\", \"ZIP_CODE\", \"EMPLOYER\", \"OCCUPATION\", \"TRANSACTION_DT\", \"TRANSACTION_AMT\", \"OTHER_ID\", \"TRAN_ID\", \"FILE_NUM\", \"MEMO_CD\", \"MEMO_TEXT\", \"SUB_ID\")\n",
    "tail(sort(tapply(myDF$TRANSACTION_AMT,paste(myDF$CITY, myDF$STATE, sep=\", \"), sum)), 20)"
   ]
  },
  {
   "cell_type": "markdown",
   "id": "0d552245-b4d6-474a-9cc9-fa7b8e674d55",
   "metadata": {},
   "source": [
    "**Here I showed the top 20 city-and-state pairs, according to the amount of money donated by first importing the data.table library, then reading the itcont1980.txt file using fread. The column named needed to be added in so I did this with the same code from the previous assignment (names(...)<- c)). After that, I used the paste function to put the city and state columns together in the output. I then used tapply to get the sum of the TRANSACTION_AMT sorted by the city/state paste. I then sorted the TRANSACTION_AMT values numerically and took the tail of the highest numbers, only displaying the last 20 rows.**"
   ]
  },
  {
   "cell_type": "markdown",
   "id": "88c9cdac-3e92-498f-83fa-e089bfc44ac8",
   "metadata": {},
   "source": [
    "## Question 5"
   ]
  },
  {
   "cell_type": "code",
   "execution_count": 1,
   "id": "d370d7c9-06db-42b9-b75f-240481a5c491",
   "metadata": {},
   "outputs": [
    {
     "data": {
      "text/html": [
       "<style>\n",
       ".dl-inline {width: auto; margin:0; padding: 0}\n",
       ".dl-inline>dt, .dl-inline>dd {float: none; width: auto; display: inline-block}\n",
       ".dl-inline>dt::after {content: \":\\0020\"; padding-right: .5ex}\n",
       ".dl-inline>dt:not(:first-of-type) {padding-left: .5ex}\n",
       "</style><dl class=dl-inline><dt>12/20/1990</dt><dd>27.3454025394168</dd><dt>2/15/1990</dt><dd>28.1230233789816</dd><dt>2/16/1990</dt><dd>36.1942212722046</dd><dt>12/28/1990</dt><dd>43.9144315757391</dd><dt>12/22/1990</dt><dd>45.2222488995598</dd><dt>12/21/1990</dt><dd>45.6617816091954</dd></dl>\n"
      ],
      "text/latex": [
       "\\begin{description*}\n",
       "\\item[12/20/1990] 27.3454025394168\n",
       "\\item[2/15/1990] 28.1230233789816\n",
       "\\item[2/16/1990] 36.1942212722046\n",
       "\\item[12/28/1990] 43.9144315757391\n",
       "\\item[12/22/1990] 45.2222488995598\n",
       "\\item[12/21/1990] 45.6617816091954\n",
       "\\end{description*}\n"
      ],
      "text/markdown": [
       "12/20/1990\n",
       ":   27.34540253941682/15/1990\n",
       ":   28.12302337898162/16/1990\n",
       ":   36.194221272204612/28/1990\n",
       ":   43.914431575739112/22/1990\n",
       ":   45.222248899559812/21/1990\n",
       ":   45.6617816091954\n",
       "\n"
      ],
      "text/plain": [
       "12/20/1990  2/15/1990  2/16/1990 12/28/1990 12/22/1990 12/21/1990 \n",
       "  27.34540   28.12302   36.19422   43.91443   45.22225   45.66178 "
      ]
     },
     "metadata": {},
     "output_type": "display_data"
    }
   ],
   "source": [
    "#Show the worst 6 dates from 1990, according to the largest mean departure delay (DepDelay) values.\n",
    "library(data.table)\n",
    "myDF <- fread(\"/anvil/projects/tdm/data/flights/subset/1990.csv\")\n",
    "tail(sort(tapply(myDF$DepDelay,paste(myDF$Month, myDF$DayofMonth, myDF$Year, sep=\"/\"), mean, na.rm=TRUE)), 6)"
   ]
  },
  {
   "cell_type": "markdown",
   "id": "9fbf00fb-2418-460f-ae94-2a32b0c28952",
   "metadata": {},
   "source": [
    "**Here I showed the worst 6 dates from 1990, according to the largest mean departure delay (DepDelay) values. I did this by first importing the data.table library, then reading the 1990.csv file using fread. After that, I used the paste function to put the month, day and year columns together in the output. I then used tapply to get the mean of the DepDelay sorted by the date paste function. In order to do this I had to remove any NA rows using: na.rm=TRUE. I then sorted the DepDelay values numerically and took the tail of the highest numbers, only displaying the last 6 rows.**"
   ]
  },
  {
   "cell_type": "markdown",
   "id": "f76442d6-d02e-4f26-b9d6-c3183e1d6929",
   "metadata": {},
   "source": [
    "## Pledge\n",
    "\n",
    "By submitting this work I hereby pledge that this is my own, personal work. I've acknowledged in the designated place at the top of this file all sources that I used to complete said work, including but not limited to: online resources, books, and electronic communications. I've noted all collaboration with fellow students and/or TA's. I did not copy or plagiarize another's work.\n",
    "\n",
    "> As a Boilermaker pursuing academic excellence, I pledge to be honest and true in all that I do. Accountable together – We are Purdue."
   ]
  }
 ],
 "metadata": {
  "kernelspec": {
   "display_name": "seminar-r",
   "language": "R",
   "name": "seminar-r"
  },
  "language_info": {
   "codemirror_mode": "r",
   "file_extension": ".r",
   "mimetype": "text/x-r-source",
   "name": "R",
   "pygments_lexer": "r",
   "version": "4.3.1"
  }
 },
 "nbformat": 4,
 "nbformat_minor": 5
}
